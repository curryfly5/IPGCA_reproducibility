{
 "cells": [
  {
   "cell_type": "code",
   "execution_count": 1,
   "metadata": {},
   "outputs": [],
   "source": [
    "import matplotlib.pyplot as plt # plotting the chart\n",
    "import matplotlib.patches as patches # add yellow rectangle\n",
    "import pandas as pd # data manipulation\n",
    "from matplotlib.patches import Rectangle\n",
    "import matplotlib as mpl\n",
    "mpl.rcParams['pdf.fonttype'] = 42"
   ]
  },
  {
   "cell_type": "code",
   "execution_count": 2,
   "metadata": {},
   "outputs": [],
   "source": [
    "df = pd.read_csv('/disk222/yupf/RNA-seq/SNPcalling/bam_sample_tissue.txt',sep='\\t')"
   ]
  },
  {
   "cell_type": "code",
   "execution_count": 3,
   "metadata": {},
   "outputs": [],
   "source": [
    "df[['sample', 'tissue']] = df['sample_tissue'].str.split('_',n=1, expand=True)"
   ]
  },
  {
   "cell_type": "code",
   "execution_count": 4,
   "metadata": {},
   "outputs": [
    {
     "data": {
      "text/plain": [
       "1464"
      ]
     },
     "execution_count": 4,
     "metadata": {},
     "output_type": "execute_result"
    }
   ],
   "source": [
    "len(df['tissue'])"
   ]
  },
  {
   "cell_type": "code",
   "execution_count": 5,
   "metadata": {},
   "outputs": [],
   "source": [
    "value_counts = df['tissue'].value_counts(normalize=True).reset_index()\n",
    "# 重命名列名\n",
    "value_counts.columns = ['value', 'proportion']"
   ]
  },
  {
   "cell_type": "code",
   "execution_count": 6,
   "metadata": {},
   "outputs": [],
   "source": [
    "order=['Duodenum','Jejunum','Ileum','Cecum','Colon','Small_intestine','Intestine_cells','porcine_intestinal_organoids','Gut']\n",
    "value_counts=value_counts.sort_values(by='value',key=lambda x: x.map({v: i for i, v in enumerate(order)}))"
   ]
  },
  {
   "cell_type": "code",
   "execution_count": 7,
   "metadata": {},
   "outputs": [],
   "source": [
    "value_counts['value']=value_counts['value'].str.replace('porcine_intestinal_','')"
   ]
  },
  {
   "cell_type": "code",
   "execution_count": 8,
   "metadata": {},
   "outputs": [
    {
     "data": {
      "text/html": [
       "<div>\n",
       "<style scoped>\n",
       "    .dataframe tbody tr th:only-of-type {\n",
       "        vertical-align: middle;\n",
       "    }\n",
       "\n",
       "    .dataframe tbody tr th {\n",
       "        vertical-align: top;\n",
       "    }\n",
       "\n",
       "    .dataframe thead th {\n",
       "        text-align: right;\n",
       "    }\n",
       "</style>\n",
       "<table border=\"1\" class=\"dataframe\">\n",
       "  <thead>\n",
       "    <tr style=\"text-align: right;\">\n",
       "      <th></th>\n",
       "      <th>value</th>\n",
       "      <th>proportion</th>\n",
       "    </tr>\n",
       "  </thead>\n",
       "  <tbody>\n",
       "    <tr>\n",
       "      <th>1</th>\n",
       "      <td>Duodenum</td>\n",
       "      <td>0.234290</td>\n",
       "    </tr>\n",
       "    <tr>\n",
       "      <th>0</th>\n",
       "      <td>Jejunum</td>\n",
       "      <td>0.293033</td>\n",
       "    </tr>\n",
       "    <tr>\n",
       "      <th>2</th>\n",
       "      <td>Ileum</td>\n",
       "      <td>0.213798</td>\n",
       "    </tr>\n",
       "    <tr>\n",
       "      <th>6</th>\n",
       "      <td>Cecum</td>\n",
       "      <td>0.016393</td>\n",
       "    </tr>\n",
       "    <tr>\n",
       "      <th>3</th>\n",
       "      <td>Colon</td>\n",
       "      <td>0.162568</td>\n",
       "    </tr>\n",
       "    <tr>\n",
       "      <th>4</th>\n",
       "      <td>Small_intestine</td>\n",
       "      <td>0.052596</td>\n",
       "    </tr>\n",
       "    <tr>\n",
       "      <th>7</th>\n",
       "      <td>Intestine_cells</td>\n",
       "      <td>0.007514</td>\n",
       "    </tr>\n",
       "    <tr>\n",
       "      <th>5</th>\n",
       "      <td>organoids</td>\n",
       "      <td>0.018443</td>\n",
       "    </tr>\n",
       "    <tr>\n",
       "      <th>8</th>\n",
       "      <td>Gut</td>\n",
       "      <td>0.001366</td>\n",
       "    </tr>\n",
       "  </tbody>\n",
       "</table>\n",
       "</div>"
      ],
      "text/plain": [
       "             value  proportion\n",
       "1         Duodenum    0.234290\n",
       "0          Jejunum    0.293033\n",
       "2            Ileum    0.213798\n",
       "6            Cecum    0.016393\n",
       "3            Colon    0.162568\n",
       "4  Small_intestine    0.052596\n",
       "7  Intestine_cells    0.007514\n",
       "5        organoids    0.018443\n",
       "8              Gut    0.001366"
      ]
     },
     "execution_count": 8,
     "metadata": {},
     "output_type": "execute_result"
    }
   ],
   "source": [
    "value_counts"
   ]
  },
  {
   "cell_type": "code",
   "execution_count": 9,
   "metadata": {},
   "outputs": [
    {
     "data": {
      "text/plain": [
       "9"
      ]
     },
     "execution_count": 9,
     "metadata": {},
     "output_type": "execute_result"
    }
   ],
   "source": [
    "len(value_counts)"
   ]
  },
  {
   "cell_type": "code",
   "execution_count": 10,
   "metadata": {},
   "outputs": [
    {
     "name": "stderr",
     "output_type": "stream",
     "text": [
      "/tmp/ipykernel_705641/1138822792.py:26: UserWarning: FixedFormatter should only be used together with FixedLocator\n",
      "  ax.set_xticklabels(['0%', '20%'])\n",
      "/tmp/ipykernel_705641/1138822792.py:62: UserWarning: Tight layout not applied. The left and right margins cannot be made large enough to accommodate all axes decorations.\n",
      "  plt.tight_layout()\n"
     ]
    },
    {
     "data": {
      "image/png": "[encoded data removed]",
      "text/plain": [
       "<Figure size 200x300 with 1 Axes>"
      ]
     },
     "metadata": {},
     "output_type": "display_data"
    }
   ],
   "source": [
    "fig, ax = plt.subplots(figsize=(2, 3))\n",
    "colors = ['navy', 'steelblue', 'steelblue', 'black', 'black', 'darkred',\n",
    "          'darkred', 'darkred', 'darkred', 'red', 'red', 'lightcoral', 'lightsalmon',\n",
    "          'orange', 'yellow', 'lightyellow']\n",
    "subcolors=colors[-len(value_counts):]\n",
    "bars=ax.barh(value_counts['value'], value_counts['proportion'],\n",
    "        color=subcolors, # colors that we want\n",
    "        zorder=2, # specify that the bars is drawn after the grid\n",
    "        height=0.5\n",
    "       )\n",
    "\n",
    "ax.invert_yaxis()\n",
    "# Add a vertical grey line at the relative position\n",
    "ax.grid(linestyle='-', # type of lines\n",
    "        alpha=0.5, # opacity\n",
    "        axis='x', # specify that we only want vertical lines\n",
    "       )\n",
    "\n",
    "# Remove the spines (border lines) from the chart\n",
    "ax.spines['top'].set_visible(False)\n",
    "ax.spines['right'].set_visible(False)\n",
    "ax.spines['bottom'].set_visible(False)\n",
    "\n",
    "# Change axis position and labels\n",
    "ax.tick_params(axis='y', labelsize=10)\n",
    "ax.set_xticklabels(['0%', '20%'])\n",
    "ax.xaxis.tick_top()\n",
    "\n",
    "# Title of our graph \n",
    "title = 'The proportion of gut segments'\n",
    "fig.text(-0.4, 1.01, # relative postion\n",
    "         title, \n",
    "         fontsize=10, # High font size for style\n",
    "         fontweight = 'bold',\n",
    "         ha='left', # align to the left\n",
    "         family='dejavu sans'\n",
    "        )\n",
    "\n",
    "# Details and Credit\n",
    "text = '*The last four segments are unknown'\n",
    "fig.text(-0.45, 0.05, # relative postion\n",
    "         text, \n",
    "         fontsize=10, # High font size for style\n",
    "         color='dimgrey',\n",
    "         ha='left', # align to the left\n",
    "         family='dejavu sans'\n",
    "        )\n",
    "\n",
    "# Add yellow rectangle\n",
    "rectangle_color = 'gold'\n",
    "rect = patches.Rectangle((-0.45, 0.97), 0.03, 0.085,\n",
    "                         linewidth=1, edgecolor=rectangle_color,\n",
    "                         facecolor=rectangle_color, transform=fig.transFigure)\n",
    "fig.patches.append(rect)\n",
    "\n",
    "for bar in bars:\n",
    "    width = bar.get_width()\n",
    "    label = f'{width*100:.2f}% ({1464 * width:.0f})'\n",
    "    ax.text(width, bar.get_y() + bar.get_height() / 2, label,\n",
    "            ha='left', va='center', color='black')\n",
    "# plt.show()\n",
    "plt.tight_layout()\n",
    "plt.savefig('/disk222/yupf/RNA-seq/figures/prop_gut.pdf', bbox_inches='tight',dpi=300)"
   ]
  },
  {
   "cell_type": "code",
   "execution_count": 100,
   "metadata": {},
   "outputs": [],
   "source": [
    "meta=pd.read_csv('/disk222/yupf/RNA-seq/filtered_meta2.csv')"
   ]
  },
  {
   "cell_type": "code",
   "execution_count": 105,
   "metadata": {},
   "outputs": [
    {
     "data": {
      "text/plain": [
       "0        PRJEB58031\n",
       "1        PRJEB58031\n",
       "2        PRJEB58031\n",
       "3        PRJEB58031\n",
       "4        PRJEB58031\n",
       "           ...     \n",
       "3379    PRJNA377173\n",
       "3380    PRJNA377173\n",
       "3381    PRJNA377173\n",
       "3382    PRJNA377173\n",
       "3383    PRJNA377173\n",
       "Name: BioProject, Length: 3384, dtype: category\n",
       "Categories (104, object): ['PRJEB41970', 'PRJEB44896', 'PRJEB54752', 'PRJEB58031', ..., 'PRJNA985398', 'PRJNA991704', 'PRJNA998179', 'PRJNA998540']"
      ]
     },
     "execution_count": 105,
     "metadata": {},
     "output_type": "execute_result"
    }
   ],
   "source": [
    "meta['BioProject'].astype('category')"
   ]
  }
 ],
 "metadata": {
  "kernelspec": {
   "display_name": "labBase",
   "language": "python",
   "name": "python3"
  },
  "language_info": {
   "codemirror_mode": {
    "name": "ipython",
    "version": 3
   },
   "file_extension": ".py",
   "mimetype": "text/x-python",
   "name": "python",
   "nbconvert_exporter": "python",
   "pygments_lexer": "ipython3",
   "version": "3.8.13"
  },
  "orig_nbformat": 4
 },
 "nbformat": 4,
 "nbformat_minor": 2
}
