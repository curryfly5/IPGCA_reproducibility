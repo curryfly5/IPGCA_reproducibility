{
 "cells": [
  {
   "cell_type": "code",
   "execution_count": 1,
   "metadata": {
    "heading_collapsed": "false"
   },
   "outputs": [],
   "source": [
    "import pandas as pd\n",
    "import numpy as np\n",
    "import scanpy as sc\n",
    "import os\n",
    "import matplotlib.pyplot as plt\n",
    "import seaborn as sns \n",
    "from sklearn.metrics import silhouette_samples, silhouette_score\n",
    "\n",
    "import sys\n",
    "from metrics import *\n",
    "plt.rc('font', family='Arial')\n",
    "plt.rcParams['pdf.fonttype'] = 42"
   ]
  },
  {
   "cell_type": "code",
   "execution_count": 2,
   "metadata": {},
   "outputs": [],
   "source": [
    "palette = { 'Raw': (0.09019607843137255, 0.7450980392156863, 0.8117647058823529),\n",
    "            'bbknn': (0.5803921568627451, 0.403921568627451, 0.7411764705882353),\n",
    "            'scanorama': (0.8901960784313725, 0.4666666666666667, 0.7607843137254902),\n",
    "            'scVI': (0.5490196078431373, 0.33725490196078434, 0.29411764705882354),\n",
    "            'Seurat_v3': (1.0, 0.4980392156862745, 0.054901960784313725),\n",
    "            'harmony':  (0.12156862745098039, 0.4666666666666667, 0.7058823529411765),\n",
    "            'combat':(0.8392156862745098, 0.5450980392156863, 0.4980392156862745),\n",
    "            'FastMNN':(0.7372549019607844, 0.7411764705882353, 0.13333333333333333)\n",
    "            }"
   ]
  },
  {
   "cell_type": "code",
   "execution_count": 3,
   "metadata": {},
   "outputs": [],
   "source": [
    "datasets =['CE69','CO69','adipose']\n",
    "methods = ['Raw','bbknn','scVI','scanorama','harmony','Seurat_v3','combat','FastMNN']"
   ]
  },
  {
   "cell_type": "markdown",
   "metadata": {
    "heading_collapsed": "true",
    "tags": []
   },
   "source": [
    "### overcorrection_score"
   ]
  },
  {
   "cell_type": "code",
   "execution_count": 4,
   "metadata": {},
   "outputs": [],
   "source": [
    "import scipy\n",
    "from sklearn.neighbors import NearestNeighbors, KNeighborsRegressor\n",
    "def overcorrection_score(emb, celltype, n_neighbors=100, n_pools=100, n_samples_per_pool=100, seed=124):\n",
    "    \"\"\"\n",
    "    \"\"\"\n",
    "    n_neighbors = min(n_neighbors, len(emb) - 1)\n",
    "    nne = NearestNeighbors(n_neighbors=1 + n_neighbors, n_jobs=8)\n",
    "    nne.fit(emb)\n",
    "    kmatrix = nne.kneighbors_graph(emb) - scipy.sparse.identity(emb.shape[0])\n",
    "\n",
    "    score = 0\n",
    "    celltype_ = np.unique(celltype)\n",
    "    celltype_dict = celltype.value_counts().to_dict()\n",
    "    \n",
    "    N_celltype = len(celltype_)\n",
    "\n",
    "    for t in range(n_pools):\n",
    "        indices = np.random.choice(np.arange(emb.shape[0]), size=n_samples_per_pool, replace=False)\n",
    "        score += np.mean([np.mean(celltype[kmatrix[i].nonzero()[1]][:min(celltype_dict[celltype[i]], n_neighbors)] == celltype[i]) for i in indices])\n",
    "\n",
    "    return 1-score / float(n_pools)"
   ]
  },
  {
   "cell_type": "code",
   "execution_count": 5,
   "metadata": {},
   "outputs": [
    {
     "name": "stderr",
     "output_type": "stream",
     "text": [
      "Exception ignored on calling ctypes callback function: <function _ThreadpoolInfo._find_modules_with_dl_iterate_phdr.<locals>.match_module_callback at 0x7f8695e448b0>\n",
      "Traceback (most recent call last):\n",
      "  File \"/disk211/public/anaconda3/envs/labBase/lib/python3.8/site-packages/threadpoolctl.py\", line 400, in match_module_callback\n",
      "    self._make_module_from_path(filepath)\n",
      "  File \"/disk211/public/anaconda3/envs/labBase/lib/python3.8/site-packages/threadpoolctl.py\", line 515, in _make_module_from_path\n",
      "    module = module_class(filepath, prefix, user_api, internal_api)\n",
      "  File \"/disk211/public/anaconda3/envs/labBase/lib/python3.8/site-packages/threadpoolctl.py\", line 606, in __init__\n",
      "    self.version = self.get_version()\n",
      "  File \"/disk211/public/anaconda3/envs/labBase/lib/python3.8/site-packages/threadpoolctl.py\", line 646, in get_version\n",
      "    config = get_config().split()\n",
      "AttributeError: 'NoneType' object has no attribute 'split'\n",
      "Exception ignored on calling ctypes callback function: <function _ThreadpoolInfo._find_modules_with_dl_iterate_phdr.<locals>.match_module_callback at 0x7f8695aed5e0>\n",
      "Traceback (most recent call last):\n",
      "  File \"/disk211/public/anaconda3/envs/labBase/lib/python3.8/site-packages/threadpoolctl.py\", line 400, in match_module_callback\n",
      "    self._make_module_from_path(filepath)\n",
      "  File \"/disk211/public/anaconda3/envs/labBase/lib/python3.8/site-packages/threadpoolctl.py\", line 515, in _make_module_from_path\n",
      "    module = module_class(filepath, prefix, user_api, internal_api)\n",
      "  File \"/disk211/public/anaconda3/envs/labBase/lib/python3.8/site-packages/threadpoolctl.py\", line 606, in __init__\n",
      "    self.version = self.get_version()\n",
      "  File \"/disk211/public/anaconda3/envs/labBase/lib/python3.8/site-packages/threadpoolctl.py\", line 646, in get_version\n",
      "    config = get_config().split()\n",
      "AttributeError: 'NoneType' object has no attribute 'split'\n",
      "Exception ignored on calling ctypes callback function: <function _ThreadpoolInfo._find_modules_with_dl_iterate_phdr.<locals>.match_module_callback at 0x7f8695aedd30>\n",
      "Traceback (most recent call last):\n",
      "  File \"/disk211/public/anaconda3/envs/labBase/lib/python3.8/site-packages/threadpoolctl.py\", line 400, in match_module_callback\n",
      "    self._make_module_from_path(filepath)\n",
      "  File \"/disk211/public/anaconda3/envs/labBase/lib/python3.8/site-packages/threadpoolctl.py\", line 515, in _make_module_from_path\n",
      "    module = module_class(filepath, prefix, user_api, internal_api)\n",
      "  File \"/disk211/public/anaconda3/envs/labBase/lib/python3.8/site-packages/threadpoolctl.py\", line 606, in __init__\n",
      "    self.version = self.get_version()\n",
      "  File \"/disk211/public/anaconda3/envs/labBase/lib/python3.8/site-packages/threadpoolctl.py\", line 646, in get_version\n",
      "    config = get_config().split()\n",
      "AttributeError: 'NoneType' object has no attribute 'split'\n",
      "Exception ignored on calling ctypes callback function: <function _ThreadpoolInfo._find_modules_with_dl_iterate_phdr.<locals>.match_module_callback at 0x7f86cc3f51f0>\n",
      "Traceback (most recent call last):\n",
      "  File \"/disk211/public/anaconda3/envs/labBase/lib/python3.8/site-packages/threadpoolctl.py\", line 400, in match_module_callback\n",
      "    self._make_module_from_path(filepath)\n",
      "  File \"/disk211/public/anaconda3/envs/labBase/lib/python3.8/site-packages/threadpoolctl.py\", line 515, in _make_module_from_path\n",
      "    module = module_class(filepath, prefix, user_api, internal_api)\n",
      "  File \"/disk211/public/anaconda3/envs/labBase/lib/python3.8/site-packages/threadpoolctl.py\", line 606, in __init__\n",
      "    self.version = self.get_version()\n",
      "  File \"/disk211/public/anaconda3/envs/labBase/lib/python3.8/site-packages/threadpoolctl.py\", line 646, in get_version\n",
      "    config = get_config().split()\n",
      "AttributeError: 'NoneType' object has no attribute 'split'\n",
      "Exception ignored on calling ctypes callback function: <function _ThreadpoolInfo._find_modules_with_dl_iterate_phdr.<locals>.match_module_callback at 0x7f8695aedc10>\n",
      "Traceback (most recent call last):\n",
      "  File \"/disk211/public/anaconda3/envs/labBase/lib/python3.8/site-packages/threadpoolctl.py\", line 400, in match_module_callback\n",
      "    self._make_module_from_path(filepath)\n",
      "  File \"/disk211/public/anaconda3/envs/labBase/lib/python3.8/site-packages/threadpoolctl.py\", line 515, in _make_module_from_path\n",
      "    module = module_class(filepath, prefix, user_api, internal_api)\n",
      "  File \"/disk211/public/anaconda3/envs/labBase/lib/python3.8/site-packages/threadpoolctl.py\", line 606, in __init__\n",
      "    self.version = self.get_version()\n",
      "  File \"/disk211/public/anaconda3/envs/labBase/lib/python3.8/site-packages/threadpoolctl.py\", line 646, in get_version\n",
      "    config = get_config().split()\n",
      "AttributeError: 'NoneType' object has no attribute 'split'\n",
      "Exception ignored on calling ctypes callback function: <function _ThreadpoolInfo._find_modules_with_dl_iterate_phdr.<locals>.match_module_callback at 0x7f8695ba5280>\n",
      "Traceback (most recent call last):\n",
      "  File \"/disk211/public/anaconda3/envs/labBase/lib/python3.8/site-packages/threadpoolctl.py\", line 400, in match_module_callback\n",
      "    self._make_module_from_path(filepath)\n",
      "  File \"/disk211/public/anaconda3/envs/labBase/lib/python3.8/site-packages/threadpoolctl.py\", line 515, in _make_module_from_path\n",
      "    module = module_class(filepath, prefix, user_api, internal_api)\n",
      "  File \"/disk211/public/anaconda3/envs/labBase/lib/python3.8/site-packages/threadpoolctl.py\", line 606, in __init__\n",
      "    self.version = self.get_version()\n",
      "  File \"/disk211/public/anaconda3/envs/labBase/lib/python3.8/site-packages/threadpoolctl.py\", line 646, in get_version\n",
      "    config = get_config().split()\n",
      "AttributeError: 'NoneType' object has no attribute 'split'\n",
      "Exception ignored on calling ctypes callback function: <function _ThreadpoolInfo._find_modules_with_dl_iterate_phdr.<locals>.match_module_callback at 0x7f8695e448b0>\n",
      "Traceback (most recent call last):\n",
      "  File \"/disk211/public/anaconda3/envs/labBase/lib/python3.8/site-packages/threadpoolctl.py\", line 400, in match_module_callback\n",
      "    self._make_module_from_path(filepath)\n",
      "  File \"/disk211/public/anaconda3/envs/labBase/lib/python3.8/site-packages/threadpoolctl.py\", line 515, in _make_module_from_path\n",
      "    module = module_class(filepath, prefix, user_api, internal_api)\n",
      "  File \"/disk211/public/anaconda3/envs/labBase/lib/python3.8/site-packages/threadpoolctl.py\", line 606, in __init__\n",
      "    self.version = self.get_version()\n",
      "  File \"/disk211/public/anaconda3/envs/labBase/lib/python3.8/site-packages/threadpoolctl.py\", line 646, in get_version\n",
      "    config = get_config().split()\n",
      "AttributeError: 'NoneType' object has no attribute 'split'\n",
      "Exception ignored on calling ctypes callback function: <function _ThreadpoolInfo._find_modules_with_dl_iterate_phdr.<locals>.match_module_callback at 0x7f8695aedee0>\n",
      "Traceback (most recent call last):\n",
      "  File \"/disk211/public/anaconda3/envs/labBase/lib/python3.8/site-packages/threadpoolctl.py\", line 400, in match_module_callback\n",
      "    self._make_module_from_path(filepath)\n",
      "  File \"/disk211/public/anaconda3/envs/labBase/lib/python3.8/site-packages/threadpoolctl.py\", line 515, in _make_module_from_path\n",
      "    module = module_class(filepath, prefix, user_api, internal_api)\n",
      "  File \"/disk211/public/anaconda3/envs/labBase/lib/python3.8/site-packages/threadpoolctl.py\", line 606, in __init__\n",
      "    self.version = self.get_version()\n",
      "  File \"/disk211/public/anaconda3/envs/labBase/lib/python3.8/site-packages/threadpoolctl.py\", line 646, in get_version\n",
      "    config = get_config().split()\n",
      "AttributeError: 'NoneType' object has no attribute 'split'\n",
      "Exception ignored on calling ctypes callback function: <function _ThreadpoolInfo._find_modules_with_dl_iterate_phdr.<locals>.match_module_callback at 0x7f8695aedaf0>\n",
      "Traceback (most recent call last):\n",
      "  File \"/disk211/public/anaconda3/envs/labBase/lib/python3.8/site-packages/threadpoolctl.py\", line 400, in match_module_callback\n",
      "    self._make_module_from_path(filepath)\n",
      "  File \"/disk211/public/anaconda3/envs/labBase/lib/python3.8/site-packages/threadpoolctl.py\", line 515, in _make_module_from_path\n",
      "    module = module_class(filepath, prefix, user_api, internal_api)\n",
      "  File \"/disk211/public/anaconda3/envs/labBase/lib/python3.8/site-packages/threadpoolctl.py\", line 606, in __init__\n",
      "    self.version = self.get_version()\n",
      "  File \"/disk211/public/anaconda3/envs/labBase/lib/python3.8/site-packages/threadpoolctl.py\", line 646, in get_version\n",
      "    config = get_config().split()\n",
      "AttributeError: 'NoneType' object has no attribute 'split'\n"
     ]
    }
   ],
   "source": [
    "oc_score = pd.DataFrame(index = datasets, columns = methods)\n",
    "\n",
    "for dataset in datasets:\n",
    "    for method in methods:\n",
    "        adata = sc.read_h5ad(f'/disk212/yupf/database/scRNA-seq/benchmark/{dataset}/{method}/adata.h5ad')\n",
    "        if 'X_'+method in list(adata.obsm.keys()):\n",
    "            oc_score.loc[dataset, method] = overcorrection_score(adata.obsm['X_'+method], adata.obs['celltype'])\n",
    "        else:\n",
    "            oc_score.loc[dataset, method] = 0\n",
    "            pass\n"
   ]
  },
  {
   "cell_type": "code",
   "execution_count": 6,
   "metadata": {},
   "outputs": [
    {
     "data": {
      "text/html": [
       "<div>\n",
       "<style scoped>\n",
       "    .dataframe tbody tr th:only-of-type {\n",
       "        vertical-align: middle;\n",
       "    }\n",
       "\n",
       "    .dataframe tbody tr th {\n",
       "        vertical-align: top;\n",
       "    }\n",
       "\n",
       "    .dataframe thead th {\n",
       "        text-align: right;\n",
       "    }\n",
       "</style>\n",
       "<table border=\"1\" class=\"dataframe\">\n",
       "  <thead>\n",
       "    <tr style=\"text-align: right;\">\n",
       "      <th></th>\n",
       "      <th>Raw</th>\n",
       "      <th>bbknn</th>\n",
       "      <th>scVI</th>\n",
       "      <th>scanorama</th>\n",
       "      <th>harmony</th>\n",
       "      <th>Seurat_v3</th>\n",
       "      <th>combat</th>\n",
       "      <th>FastMNN</th>\n",
       "    </tr>\n",
       "  </thead>\n",
       "  <tbody>\n",
       "    <tr>\n",
       "      <th>CE69</th>\n",
       "      <td>0.116596</td>\n",
       "      <td>0.120663</td>\n",
       "      <td>0.13065</td>\n",
       "      <td>0.107284</td>\n",
       "      <td>0.102628</td>\n",
       "      <td>0.115449</td>\n",
       "      <td>0.113011</td>\n",
       "      <td>0.10821</td>\n",
       "    </tr>\n",
       "    <tr>\n",
       "      <th>CO69</th>\n",
       "      <td>0.091957</td>\n",
       "      <td>0.098026</td>\n",
       "      <td>0.122248</td>\n",
       "      <td>0.112105</td>\n",
       "      <td>0.093976</td>\n",
       "      <td>0.119235</td>\n",
       "      <td>0.090703</td>\n",
       "      <td>0.104023</td>\n",
       "    </tr>\n",
       "    <tr>\n",
       "      <th>adipose</th>\n",
       "      <td>0.174231</td>\n",
       "      <td>0.20606</td>\n",
       "      <td>0.213875</td>\n",
       "      <td>0.203269</td>\n",
       "      <td>0.213707</td>\n",
       "      <td>0.232566</td>\n",
       "      <td>0.173159</td>\n",
       "      <td>0.204292</td>\n",
       "    </tr>\n",
       "  </tbody>\n",
       "</table>\n",
       "</div>"
      ],
      "text/plain": [
       "              Raw     bbknn      scVI scanorama   harmony Seurat_v3    combat  \\\n",
       "CE69     0.116596  0.120663   0.13065  0.107284  0.102628  0.115449  0.113011   \n",
       "CO69     0.091957  0.098026  0.122248  0.112105  0.093976  0.119235  0.090703   \n",
       "adipose  0.174231   0.20606  0.213875  0.203269  0.213707  0.232566  0.173159   \n",
       "\n",
       "          FastMNN  \n",
       "CE69      0.10821  \n",
       "CO69     0.104023  \n",
       "adipose  0.204292  "
      ]
     },
     "execution_count": 6,
     "metadata": {},
     "output_type": "execute_result"
    }
   ],
   "source": [
    "oc_score"
   ]
  },
  {
   "cell_type": "code",
   "execution_count": 7,
   "metadata": {},
   "outputs": [],
   "source": [
    "plt.rc('font', family='DejaVu Sans')"
   ]
  },
  {
   "cell_type": "code",
   "execution_count": 9,
   "metadata": {},
   "outputs": [
    {
     "data": {
      "image/png": "[encoded data removed]",
      "text/plain": [
       "<Figure size 800x600 with 1 Axes>"
      ]
     },
     "metadata": {},
     "output_type": "display_data"
    }
   ],
   "source": [
    "# score = pd.read_csv('~/SCALEX/notebook/benchmark/overcorrect_benchmark.txt', sep='\\t', index_col=0)\n",
    "\n",
    "datasets = list(oc_score.index)\n",
    "methods = list(oc_score.columns)\n",
    "\n",
    "score = pd.DataFrame({'Dataset':np.repeat(datasets, len(methods)),\n",
    "                      'Method': methods* len(datasets),\n",
    "                      'overcorrect_score': np.reshape(oc_score.values, (1, -1)).squeeze(),})\n",
    "score = score[score['Method'] !='Raw']\n",
    "legend_params = {'loc': 'center left',\n",
    "                 'bbox_to_anchor':(1.01, 0.35),\n",
    "                 'fontsize': 12,\n",
    "                 'ncol': 1,\n",
    "                 'frameon': False,\n",
    "                 'markerscale': 1\n",
    "                }\n",
    "\n",
    "plt.rcParams['savefig.dpi'] = 100\n",
    "plt.rcParams['figure.dpi'] = 100\n",
    "plt.figure(figsize=(8,6))\n",
    "fig = sns.barplot(x='Dataset', y='overcorrect_score', data=score, hue='Method',palette=palette, saturation=1)\n",
    "plt.ylabel('Over-correctiont Score',fontsize=14, labelpad=10)\n",
    "plt.xlabel('Datasets',fontsize=14, labelpad=10)\n",
    "plt.xticks(fontsize=12)\n",
    "plt.yticks(fontsize=12)\n",
    "plt.title('',fontsize=16,y=1.02)\n",
    "sns.despine()\n",
    "plt.legend(**legend_params)\n",
    "plt.savefig('/disk212/yupf/database/scRNA-seq/NewAtlas/figures/overcorrect_score.pdf', dpi=300, bbox_inches='tight')"
   ]
  }
 ],
 "metadata": {
  "kernelspec": {
   "display_name": "Python 3.8.13 ('scanly')",
   "language": "python",
   "name": "python3"
  },
  "language_info": {
   "codemirror_mode": {
    "name": "ipython",
    "version": 3
   },
   "file_extension": ".py",
   "mimetype": "text/x-python",
   "name": "python",
   "nbconvert_exporter": "python",
   "pygments_lexer": "ipython3",
   "version": "3.8.13"
  },
  "vscode": {
   "interpreter": {
    "hash": "84f72deef33a52f9de95e0f94a6e7aafd721dc8fd2d46fb5c7e4df36c385ddf9"
   }
  }
 },
 "nbformat": 4,
 "nbformat_minor": 4
}
