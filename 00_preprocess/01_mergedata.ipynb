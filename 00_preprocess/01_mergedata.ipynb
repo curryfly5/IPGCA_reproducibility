{
 "cells": [
  {
   "cell_type": "markdown",
   "metadata": {},
   "source": [
    "## PIG GUT CELL ATLAS GENERATION"
   ]
  },
  {
   "cell_type": "code",
   "execution_count": 1,
   "metadata": {},
   "outputs": [],
   "source": [
    "import scanpy as sc\n",
    "import pandas as pd\n",
    "import numpy as np\n",
    "import os\n",
    "import matplotlib as mpl\n",
    "import matplotlib.pyplot as plt\n",
    "import seaborn as sb\n",
    "import scrublet \n",
    "from matplotlib.pyplot import rc_context\n",
    "mpl.rcParams['pdf.fonttype'] = 42\n",
    "mpl.rcParams[\"font.sans-serif\"] = \"Arial\"\n",
    "%config InlineBackend.figure_format = 'retina'\n",
    "sc.settings.set_figure_params(dpi=50, dpi_save=300, figsize=(5, 5))"
   ]
  },
  {
   "cell_type": "code",
   "execution_count": 55,
   "metadata": {},
   "outputs": [],
   "source": [
    "os.chdir('/disk212/yupf/database/scRNA-seq/NewAtlas') #修改路径\n",
    "concat_file='./atlas_concat.h5ad'\n",
    "QC_file='./atlas_qc.h5ad'\n",
    "reduction_file = './atlas_rd.h5ad'\n",
    "harmony_file='./atlas_harm.h5ad'\n",
    "scVI_file='./atlas_scvi.h5ad'\n",
    "annotation_file ='./atlas_annotation.h5ad'"
   ]
  },
  {
   "cell_type": "markdown",
   "metadata": {},
   "source": [
    "### merge all dataset"
   ]
  },
  {
   "cell_type": "code",
   "execution_count": null,
   "metadata": {},
   "outputs": [
    {
     "name": "stderr",
     "output_type": "stream",
     "text": [
      "/disk211/public/anaconda3/envs/labBase/lib/python3.8/site-packages/scanpy/preprocessing/_normalization.py:170: UserWarning: Received a view of an AnnData. Making a copy.\n",
      "  view_to_actual(adata)\n"
     ]
    },
    {
     "name": "stdout",
     "output_type": "stream",
     "text": [
      "Automatically set threshold at doublet score = 0.38\n",
      "Detected doublet rate = 0.0%\n",
      "Estimated detectable doublet fraction = 0.1%\n",
      "Overall doublet rate:\n",
      "\tExpected   = 5.0%\n",
      "\tEstimated  = 8.0%\n"
     ]
    },
    {
     "name": "stderr",
     "output_type": "stream",
     "text": [
      "/disk211/public/anaconda3/envs/labBase/lib/python3.8/site-packages/scanpy/preprocessing/_normalization.py:170: UserWarning: Received a view of an AnnData. Making a copy.\n",
      "  view_to_actual(adata)\n"
     ]
    },
    {
     "name": "stdout",
     "output_type": "stream",
     "text": [
      "Automatically set threshold at doublet score = 0.56\n",
      "Detected doublet rate = 0.0%\n",
      "Estimated detectable doublet fraction = 0.0%\n",
      "Overall doublet rate:\n",
      "\tExpected   = 5.0%\n",
      "\tEstimated  = 0.0%\n"
     ]
    },
    {
     "name": "stderr",
     "output_type": "stream",
     "text": [
      "/disk211/public/anaconda3/envs/labBase/lib/python3.8/site-packages/scanpy/preprocessing/_normalization.py:170: UserWarning: Received a view of an AnnData. Making a copy.\n",
      "  view_to_actual(adata)\n"
     ]
    },
    {
     "name": "stdout",
     "output_type": "stream",
     "text": [
      "Automatically set threshold at doublet score = 0.66\n",
      "Detected doublet rate = 0.0%\n",
      "Estimated detectable doublet fraction = 0.0%\n",
      "Overall doublet rate:\n",
      "\tExpected   = 5.0%\n",
      "\tEstimated  = 0.0%\n"
     ]
    },
    {
     "name": "stderr",
     "output_type": "stream",
     "text": [
      "/disk211/public/anaconda3/envs/labBase/lib/python3.8/site-packages/scanpy/preprocessing/_normalization.py:170: UserWarning: Received a view of an AnnData. Making a copy.\n",
      "  view_to_actual(adata)\n"
     ]
    },
    {
     "name": "stdout",
     "output_type": "stream",
     "text": [
      "Automatically set threshold at doublet score = 0.63\n",
      "Detected doublet rate = 0.0%\n",
      "Estimated detectable doublet fraction = 0.1%\n",
      "Overall doublet rate:\n",
      "\tExpected   = 5.0%\n",
      "\tEstimated  = 13.3%\n"
     ]
    },
    {
     "name": "stderr",
     "output_type": "stream",
     "text": [
      "/disk211/public/anaconda3/envs/labBase/lib/python3.8/site-packages/scanpy/preprocessing/_normalization.py:170: UserWarning: Received a view of an AnnData. Making a copy.\n",
      "  view_to_actual(adata)\n"
     ]
    },
    {
     "name": "stdout",
     "output_type": "stream",
     "text": [
      "Automatically set threshold at doublet score = 0.67\n",
      "Detected doublet rate = 0.0%\n",
      "Estimated detectable doublet fraction = 0.0%\n",
      "Overall doublet rate:\n",
      "\tExpected   = 5.0%\n",
      "\tEstimated  = 0.0%\n"
     ]
    },
    {
     "name": "stderr",
     "output_type": "stream",
     "text": [
      "/disk211/public/anaconda3/envs/labBase/lib/python3.8/site-packages/scanpy/preprocessing/_normalization.py:170: UserWarning: Received a view of an AnnData. Making a copy.\n",
      "  view_to_actual(adata)\n"
     ]
    },
    {
     "name": "stdout",
     "output_type": "stream",
     "text": [
      "Automatically set threshold at doublet score = 0.50\n",
      "Detected doublet rate = 0.0%\n",
      "Estimated detectable doublet fraction = 0.0%\n",
      "Overall doublet rate:\n",
      "\tExpected   = 5.0%\n",
      "\tEstimated  = 100.0%\n"
     ]
    },
    {
     "name": "stderr",
     "output_type": "stream",
     "text": [
      "/disk211/public/anaconda3/envs/labBase/lib/python3.8/site-packages/scanpy/preprocessing/_normalization.py:170: UserWarning: Received a view of an AnnData. Making a copy.\n",
      "  view_to_actual(adata)\n"
     ]
    },
    {
     "name": "stdout",
     "output_type": "stream",
     "text": [
      "Automatically set threshold at doublet score = 0.67\n",
      "Detected doublet rate = 0.0%\n",
      "Estimated detectable doublet fraction = 0.0%\n",
      "Overall doublet rate:\n",
      "\tExpected   = 5.0%\n",
      "\tEstimated  = 0.0%\n"
     ]
    },
    {
     "name": "stderr",
     "output_type": "stream",
     "text": [
      "/disk211/public/anaconda3/envs/labBase/lib/python3.8/site-packages/scanpy/preprocessing/_normalization.py:170: UserWarning: Received a view of an AnnData. Making a copy.\n",
      "  view_to_actual(adata)\n"
     ]
    },
    {
     "name": "stdout",
     "output_type": "stream",
     "text": [
      "Automatically set threshold at doublet score = 0.62\n",
      "Detected doublet rate = 0.1%\n",
      "Estimated detectable doublet fraction = 0.5%\n",
      "Overall doublet rate:\n",
      "\tExpected   = 5.0%\n",
      "\tEstimated  = 15.4%\n"
     ]
    },
    {
     "name": "stderr",
     "output_type": "stream",
     "text": [
      "/disk211/public/anaconda3/envs/labBase/lib/python3.8/site-packages/scanpy/preprocessing/_normalization.py:170: UserWarning: Received a view of an AnnData. Making a copy.\n",
      "  view_to_actual(adata)\n"
     ]
    },
    {
     "name": "stdout",
     "output_type": "stream",
     "text": [
      "Automatically set threshold at doublet score = 0.59\n",
      "Detected doublet rate = 0.1%\n",
      "Estimated detectable doublet fraction = 1.1%\n",
      "Overall doublet rate:\n",
      "\tExpected   = 5.0%\n",
      "\tEstimated  = 10.6%\n"
     ]
    },
    {
     "name": "stderr",
     "output_type": "stream",
     "text": [
      "/disk211/public/anaconda3/envs/labBase/lib/python3.8/site-packages/scanpy/preprocessing/_normalization.py:170: UserWarning: Received a view of an AnnData. Making a copy.\n",
      "  view_to_actual(adata)\n"
     ]
    },
    {
     "name": "stdout",
     "output_type": "stream",
     "text": [
      "Automatically set threshold at doublet score = 0.61\n",
      "Detected doublet rate = 0.0%\n",
      "Estimated detectable doublet fraction = 0.4%\n",
      "Overall doublet rate:\n",
      "\tExpected   = 5.0%\n",
      "\tEstimated  = 2.7%\n"
     ]
    },
    {
     "name": "stderr",
     "output_type": "stream",
     "text": [
      "/disk211/public/anaconda3/envs/labBase/lib/python3.8/site-packages/scanpy/preprocessing/_normalization.py:170: UserWarning: Received a view of an AnnData. Making a copy.\n",
      "  view_to_actual(adata)\n"
     ]
    },
    {
     "name": "stdout",
     "output_type": "stream",
     "text": [
      "Automatically set threshold at doublet score = 0.54\n",
      "Detected doublet rate = 0.0%\n",
      "Estimated detectable doublet fraction = 0.6%\n",
      "Overall doublet rate:\n",
      "\tExpected   = 5.0%\n",
      "\tEstimated  = 8.4%\n"
     ]
    },
    {
     "name": "stderr",
     "output_type": "stream",
     "text": [
      "/disk211/public/anaconda3/envs/labBase/lib/python3.8/site-packages/scanpy/preprocessing/_normalization.py:170: UserWarning: Received a view of an AnnData. Making a copy.\n",
      "  view_to_actual(adata)\n"
     ]
    },
    {
     "name": "stdout",
     "output_type": "stream",
     "text": [
      "Automatically set threshold at doublet score = 0.60\n",
      "Detected doublet rate = 0.1%\n",
      "Estimated detectable doublet fraction = 0.8%\n",
      "Overall doublet rate:\n",
      "\tExpected   = 5.0%\n",
      "\tEstimated  = 12.8%\n"
     ]
    },
    {
     "name": "stderr",
     "output_type": "stream",
     "text": [
      "/disk211/public/anaconda3/envs/labBase/lib/python3.8/site-packages/scanpy/preprocessing/_normalization.py:170: UserWarning: Received a view of an AnnData. Making a copy.\n",
      "  view_to_actual(adata)\n"
     ]
    },
    {
     "name": "stdout",
     "output_type": "stream",
     "text": [
      "Automatically set threshold at doublet score = 0.60\n",
      "Detected doublet rate = 0.0%\n",
      "Estimated detectable doublet fraction = 0.8%\n",
      "Overall doublet rate:\n",
      "\tExpected   = 5.0%\n",
      "\tEstimated  = 4.5%\n"
     ]
    },
    {
     "name": "stderr",
     "output_type": "stream",
     "text": [
      "/disk211/public/anaconda3/envs/labBase/lib/python3.8/site-packages/scanpy/preprocessing/_normalization.py:170: UserWarning: Received a view of an AnnData. Making a copy.\n",
      "  view_to_actual(adata)\n"
     ]
    },
    {
     "name": "stdout",
     "output_type": "stream",
     "text": [
      "Automatically set threshold at doublet score = 0.62\n",
      "Detected doublet rate = 0.0%\n",
      "Estimated detectable doublet fraction = 0.4%\n",
      "Overall doublet rate:\n",
      "\tExpected   = 5.0%\n",
      "\tEstimated  = 7.8%\n"
     ]
    },
    {
     "name": "stderr",
     "output_type": "stream",
     "text": [
      "/disk211/public/anaconda3/envs/labBase/lib/python3.8/site-packages/scanpy/preprocessing/_normalization.py:170: UserWarning: Received a view of an AnnData. Making a copy.\n",
      "  view_to_actual(adata)\n"
     ]
    },
    {
     "name": "stdout",
     "output_type": "stream",
     "text": [
      "Automatically set threshold at doublet score = 0.60\n",
      "Detected doublet rate = 0.0%\n",
      "Estimated detectable doublet fraction = 0.5%\n",
      "Overall doublet rate:\n",
      "\tExpected   = 5.0%\n",
      "\tEstimated  = 2.8%\n"
     ]
    },
    {
     "name": "stderr",
     "output_type": "stream",
     "text": [
      "/disk211/public/anaconda3/envs/labBase/lib/python3.8/site-packages/scanpy/preprocessing/_normalization.py:170: UserWarning: Received a view of an AnnData. Making a copy.\n",
      "  view_to_actual(adata)\n"
     ]
    },
    {
     "name": "stdout",
     "output_type": "stream",
     "text": [
      "Automatically set threshold at doublet score = 0.31\n",
      "Detected doublet rate = 1.1%\n",
      "Estimated detectable doublet fraction = 21.2%\n",
      "Overall doublet rate:\n",
      "\tExpected   = 5.0%\n",
      "\tEstimated  = 5.4%\n"
     ]
    },
    {
     "name": "stderr",
     "output_type": "stream",
     "text": [
      "/disk211/public/anaconda3/envs/labBase/lib/python3.8/site-packages/scanpy/preprocessing/_normalization.py:170: UserWarning: Received a view of an AnnData. Making a copy.\n",
      "  view_to_actual(adata)\n"
     ]
    },
    {
     "name": "stdout",
     "output_type": "stream",
     "text": [
      "Automatically set threshold at doublet score = 0.56\n",
      "Detected doublet rate = 0.1%\n",
      "Estimated detectable doublet fraction = 3.5%\n",
      "Overall doublet rate:\n",
      "\tExpected   = 5.0%\n",
      "\tEstimated  = 3.8%\n"
     ]
    },
    {
     "name": "stderr",
     "output_type": "stream",
     "text": [
      "/disk211/public/anaconda3/envs/labBase/lib/python3.8/site-packages/scanpy/preprocessing/_normalization.py:170: UserWarning: Received a view of an AnnData. Making a copy.\n",
      "  view_to_actual(adata)\n"
     ]
    },
    {
     "name": "stdout",
     "output_type": "stream",
     "text": [
      "Automatically set threshold at doublet score = 0.57\n",
      "Detected doublet rate = 0.0%\n",
      "Estimated detectable doublet fraction = 0.2%\n",
      "Overall doublet rate:\n",
      "\tExpected   = 5.0%\n",
      "\tEstimated  = 0.0%\n"
     ]
    },
    {
     "name": "stderr",
     "output_type": "stream",
     "text": [
      "/disk211/public/anaconda3/envs/labBase/lib/python3.8/site-packages/scanpy/preprocessing/_normalization.py:170: UserWarning: Received a view of an AnnData. Making a copy.\n",
      "  view_to_actual(adata)\n"
     ]
    },
    {
     "name": "stdout",
     "output_type": "stream",
     "text": [
      "Automatically set threshold at doublet score = 0.48\n",
      "Detected doublet rate = 0.0%\n",
      "Estimated detectable doublet fraction = 0.0%\n",
      "Overall doublet rate:\n",
      "\tExpected   = 5.0%\n",
      "\tEstimated  = 0.0%\n"
     ]
    },
    {
     "name": "stderr",
     "output_type": "stream",
     "text": [
      "/disk211/public/anaconda3/envs/labBase/lib/python3.8/site-packages/scanpy/preprocessing/_normalization.py:170: UserWarning: Received a view of an AnnData. Making a copy.\n",
      "  view_to_actual(adata)\n"
     ]
    },
    {
     "name": "stdout",
     "output_type": "stream",
     "text": [
      "Automatically set threshold at doublet score = 0.62\n",
      "Detected doublet rate = 0.0%\n",
      "Estimated detectable doublet fraction = 0.2%\n",
      "Overall doublet rate:\n",
      "\tExpected   = 5.0%\n",
      "\tEstimated  = 21.6%\n"
     ]
    },
    {
     "name": "stderr",
     "output_type": "stream",
     "text": [
      "/disk211/public/anaconda3/envs/labBase/lib/python3.8/site-packages/scanpy/preprocessing/_normalization.py:170: UserWarning: Received a view of an AnnData. Making a copy.\n",
      "  view_to_actual(adata)\n"
     ]
    },
    {
     "name": "stdout",
     "output_type": "stream",
     "text": [
      "Automatically set threshold at doublet score = 0.25\n",
      "Detected doublet rate = 1.8%\n",
      "Estimated detectable doublet fraction = 23.1%\n",
      "Overall doublet rate:\n",
      "\tExpected   = 5.0%\n",
      "\tEstimated  = 8.0%\n"
     ]
    },
    {
     "name": "stderr",
     "output_type": "stream",
     "text": [
      "/disk211/public/anaconda3/envs/labBase/lib/python3.8/site-packages/scanpy/preprocessing/_normalization.py:170: UserWarning: Received a view of an AnnData. Making a copy.\n",
      "  view_to_actual(adata)\n"
     ]
    },
    {
     "name": "stdout",
     "output_type": "stream",
     "text": [
      "Automatically set threshold at doublet score = 0.39\n",
      "Detected doublet rate = 0.4%\n",
      "Estimated detectable doublet fraction = 1.9%\n",
      "Overall doublet rate:\n",
      "\tExpected   = 5.0%\n",
      "\tEstimated  = 20.7%\n"
     ]
    },
    {
     "name": "stderr",
     "output_type": "stream",
     "text": [
      "/disk211/public/anaconda3/envs/labBase/lib/python3.8/site-packages/scanpy/preprocessing/_normalization.py:170: UserWarning: Received a view of an AnnData. Making a copy.\n",
      "  view_to_actual(adata)\n"
     ]
    },
    {
     "name": "stdout",
     "output_type": "stream",
     "text": [
      "Automatically set threshold at doublet score = 0.60\n",
      "Detected doublet rate = 0.0%\n",
      "Estimated detectable doublet fraction = 0.5%\n",
      "Overall doublet rate:\n",
      "\tExpected   = 5.0%\n",
      "\tEstimated  = 8.8%\n"
     ]
    },
    {
     "name": "stderr",
     "output_type": "stream",
     "text": [
      "/disk211/public/anaconda3/envs/labBase/lib/python3.8/site-packages/scanpy/preprocessing/_normalization.py:170: UserWarning: Received a view of an AnnData. Making a copy.\n",
      "  view_to_actual(adata)\n"
     ]
    },
    {
     "name": "stdout",
     "output_type": "stream",
     "text": [
      "Automatically set threshold at doublet score = 0.59\n",
      "Detected doublet rate = 0.0%\n",
      "Estimated detectable doublet fraction = 0.2%\n",
      "Overall doublet rate:\n",
      "\tExpected   = 5.0%\n",
      "\tEstimated  = 0.0%\n"
     ]
    },
    {
     "name": "stderr",
     "output_type": "stream",
     "text": [
      "/disk211/public/anaconda3/envs/labBase/lib/python3.8/site-packages/scanpy/preprocessing/_normalization.py:170: UserWarning: Received a view of an AnnData. Making a copy.\n",
      "  view_to_actual(adata)\n"
     ]
    },
    {
     "name": "stdout",
     "output_type": "stream",
     "text": [
      "Automatically set threshold at doublet score = 0.29\n",
      "Detected doublet rate = 1.5%\n",
      "Estimated detectable doublet fraction = 17.1%\n",
      "Overall doublet rate:\n",
      "\tExpected   = 5.0%\n",
      "\tEstimated  = 8.5%\n"
     ]
    },
    {
     "name": "stderr",
     "output_type": "stream",
     "text": [
      "/disk211/public/anaconda3/envs/labBase/lib/python3.8/site-packages/scanpy/preprocessing/_normalization.py:170: UserWarning: Received a view of an AnnData. Making a copy.\n",
      "  view_to_actual(adata)\n"
     ]
    },
    {
     "name": "stdout",
     "output_type": "stream",
     "text": [
      "Automatically set threshold at doublet score = 0.35\n",
      "Detected doublet rate = 0.5%\n",
      "Estimated detectable doublet fraction = 10.5%\n",
      "Overall doublet rate:\n",
      "\tExpected   = 5.0%\n",
      "\tEstimated  = 4.6%\n"
     ]
    },
    {
     "name": "stderr",
     "output_type": "stream",
     "text": [
      "/disk211/public/anaconda3/envs/labBase/lib/python3.8/site-packages/scanpy/preprocessing/_normalization.py:170: UserWarning: Received a view of an AnnData. Making a copy.\n",
      "  view_to_actual(adata)\n"
     ]
    },
    {
     "name": "stdout",
     "output_type": "stream",
     "text": [
      "Automatically set threshold at doublet score = 0.49\n",
      "Detected doublet rate = 0.0%\n",
      "Estimated detectable doublet fraction = 0.4%\n",
      "Overall doublet rate:\n",
      "\tExpected   = 5.0%\n",
      "\tEstimated  = 7.1%\n"
     ]
    },
    {
     "name": "stderr",
     "output_type": "stream",
     "text": [
      "/disk211/public/anaconda3/envs/labBase/lib/python3.8/site-packages/scanpy/preprocessing/_normalization.py:170: UserWarning: Received a view of an AnnData. Making a copy.\n",
      "  view_to_actual(adata)\n"
     ]
    },
    {
     "name": "stdout",
     "output_type": "stream",
     "text": [
      "Automatically set threshold at doublet score = 0.31\n",
      "Detected doublet rate = 1.0%\n",
      "Estimated detectable doublet fraction = 12.5%\n",
      "Overall doublet rate:\n",
      "\tExpected   = 5.0%\n",
      "\tEstimated  = 8.1%\n"
     ]
    },
    {
     "name": "stderr",
     "output_type": "stream",
     "text": [
      "/disk211/public/anaconda3/envs/labBase/lib/python3.8/site-packages/scanpy/preprocessing/_normalization.py:170: UserWarning: Received a view of an AnnData. Making a copy.\n",
      "  view_to_actual(adata)\n"
     ]
    },
    {
     "name": "stdout",
     "output_type": "stream",
     "text": [
      "Automatically set threshold at doublet score = 0.60\n",
      "Detected doublet rate = 0.0%\n",
      "Estimated detectable doublet fraction = 0.3%\n",
      "Overall doublet rate:\n",
      "\tExpected   = 5.0%\n",
      "\tEstimated  = 0.0%\n"
     ]
    },
    {
     "name": "stderr",
     "output_type": "stream",
     "text": [
      "/disk211/public/anaconda3/envs/labBase/lib/python3.8/site-packages/scanpy/preprocessing/_normalization.py:170: UserWarning: Received a view of an AnnData. Making a copy.\n",
      "  view_to_actual(adata)\n"
     ]
    },
    {
     "name": "stdout",
     "output_type": "stream",
     "text": [
      "Automatically set threshold at doublet score = 0.31\n",
      "Detected doublet rate = 1.3%\n",
      "Estimated detectable doublet fraction = 18.2%\n",
      "Overall doublet rate:\n",
      "\tExpected   = 5.0%\n",
      "\tEstimated  = 7.0%\n"
     ]
    },
    {
     "name": "stderr",
     "output_type": "stream",
     "text": [
      "/disk211/public/anaconda3/envs/labBase/lib/python3.8/site-packages/scanpy/preprocessing/_normalization.py:170: UserWarning: Received a view of an AnnData. Making a copy.\n",
      "  view_to_actual(adata)\n"
     ]
    },
    {
     "name": "stdout",
     "output_type": "stream",
     "text": [
      "Automatically set threshold at doublet score = 0.60\n",
      "Detected doublet rate = 0.1%\n",
      "Estimated detectable doublet fraction = 2.3%\n",
      "Overall doublet rate:\n",
      "\tExpected   = 5.0%\n",
      "\tEstimated  = 5.7%\n"
     ]
    },
    {
     "name": "stderr",
     "output_type": "stream",
     "text": [
      "/disk211/public/anaconda3/envs/labBase/lib/python3.8/site-packages/scanpy/preprocessing/_normalization.py:170: UserWarning: Received a view of an AnnData. Making a copy.\n",
      "  view_to_actual(adata)\n"
     ]
    },
    {
     "name": "stdout",
     "output_type": "stream",
     "text": [
      "Automatically set threshold at doublet score = 0.52\n",
      "Detected doublet rate = 0.0%\n",
      "Estimated detectable doublet fraction = 0.0%\n",
      "Overall doublet rate:\n",
      "\tExpected   = 5.0%\n",
      "\tEstimated  = 50.0%\n"
     ]
    },
    {
     "name": "stderr",
     "output_type": "stream",
     "text": [
      "/disk211/public/anaconda3/envs/labBase/lib/python3.8/site-packages/scanpy/preprocessing/_normalization.py:170: UserWarning: Received a view of an AnnData. Making a copy.\n",
      "  view_to_actual(adata)\n"
     ]
    },
    {
     "name": "stdout",
     "output_type": "stream",
     "text": [
      "Automatically set threshold at doublet score = 0.29\n",
      "Detected doublet rate = 1.6%\n",
      "Estimated detectable doublet fraction = 19.8%\n",
      "Overall doublet rate:\n",
      "\tExpected   = 5.0%\n",
      "\tEstimated  = 7.9%\n"
     ]
    },
    {
     "name": "stderr",
     "output_type": "stream",
     "text": [
      "/disk211/public/anaconda3/envs/labBase/lib/python3.8/site-packages/scanpy/preprocessing/_normalization.py:170: UserWarning: Received a view of an AnnData. Making a copy.\n",
      "  view_to_actual(adata)\n"
     ]
    },
    {
     "name": "stdout",
     "output_type": "stream",
     "text": [
      "Automatically set threshold at doublet score = 0.25\n",
      "Detected doublet rate = 2.1%\n",
      "Estimated detectable doublet fraction = 24.2%\n",
      "Overall doublet rate:\n",
      "\tExpected   = 5.0%\n",
      "\tEstimated  = 8.6%\n"
     ]
    },
    {
     "name": "stderr",
     "output_type": "stream",
     "text": [
      "/disk211/public/anaconda3/envs/labBase/lib/python3.8/site-packages/scanpy/preprocessing/_normalization.py:170: UserWarning: Received a view of an AnnData. Making a copy.\n",
      "  view_to_actual(adata)\n"
     ]
    },
    {
     "name": "stdout",
     "output_type": "stream",
     "text": [
      "Automatically set threshold at doublet score = 0.62\n",
      "Detected doublet rate = 0.0%\n",
      "Estimated detectable doublet fraction = 0.1%\n",
      "Overall doublet rate:\n",
      "\tExpected   = 5.0%\n",
      "\tEstimated  = 8.7%\n"
     ]
    },
    {
     "name": "stderr",
     "output_type": "stream",
     "text": [
      "/disk211/public/anaconda3/envs/labBase/lib/python3.8/site-packages/scanpy/preprocessing/_normalization.py:170: UserWarning: Received a view of an AnnData. Making a copy.\n",
      "  view_to_actual(adata)\n"
     ]
    },
    {
     "name": "stdout",
     "output_type": "stream",
     "text": [
      "Automatically set threshold at doublet score = 0.26\n",
      "Detected doublet rate = 1.2%\n",
      "Estimated detectable doublet fraction = 19.7%\n",
      "Overall doublet rate:\n",
      "\tExpected   = 5.0%\n",
      "\tEstimated  = 6.2%\n"
     ]
    },
    {
     "name": "stderr",
     "output_type": "stream",
     "text": [
      "/disk211/public/anaconda3/envs/labBase/lib/python3.8/site-packages/scanpy/preprocessing/_normalization.py:170: UserWarning: Received a view of an AnnData. Making a copy.\n",
      "  view_to_actual(adata)\n"
     ]
    },
    {
     "name": "stdout",
     "output_type": "stream",
     "text": [
      "Automatically set threshold at doublet score = 0.26\n",
      "Detected doublet rate = 1.5%\n",
      "Estimated detectable doublet fraction = 17.0%\n",
      "Overall doublet rate:\n",
      "\tExpected   = 5.0%\n",
      "\tEstimated  = 9.1%\n"
     ]
    },
    {
     "name": "stderr",
     "output_type": "stream",
     "text": [
      "/disk211/public/anaconda3/envs/labBase/lib/python3.8/site-packages/scanpy/preprocessing/_normalization.py:170: UserWarning: Received a view of an AnnData. Making a copy.\n",
      "  view_to_actual(adata)\n"
     ]
    },
    {
     "name": "stdout",
     "output_type": "stream",
     "text": [
      "Automatically set threshold at doublet score = 0.25\n",
      "Detected doublet rate = 2.2%\n",
      "Estimated detectable doublet fraction = 26.3%\n",
      "Overall doublet rate:\n",
      "\tExpected   = 5.0%\n",
      "\tEstimated  = 8.2%\n"
     ]
    },
    {
     "name": "stderr",
     "output_type": "stream",
     "text": [
      "/disk211/public/anaconda3/envs/labBase/lib/python3.8/site-packages/scanpy/preprocessing/_normalization.py:170: UserWarning: Received a view of an AnnData. Making a copy.\n",
      "  view_to_actual(adata)\n"
     ]
    },
    {
     "name": "stdout",
     "output_type": "stream",
     "text": [
      "Automatically set threshold at doublet score = 0.56\n",
      "Detected doublet rate = 0.0%\n",
      "Estimated detectable doublet fraction = 0.2%\n",
      "Overall doublet rate:\n",
      "\tExpected   = 5.0%\n",
      "\tEstimated  = 0.0%\n"
     ]
    },
    {
     "name": "stderr",
     "output_type": "stream",
     "text": [
      "/disk211/public/anaconda3/envs/labBase/lib/python3.8/site-packages/scanpy/preprocessing/_normalization.py:170: UserWarning: Received a view of an AnnData. Making a copy.\n",
      "  view_to_actual(adata)\n"
     ]
    },
    {
     "name": "stdout",
     "output_type": "stream",
     "text": [
      "Automatically set threshold at doublet score = 0.66\n",
      "Detected doublet rate = 0.0%\n",
      "Estimated detectable doublet fraction = 0.1%\n",
      "Overall doublet rate:\n",
      "\tExpected   = 5.0%\n",
      "\tEstimated  = 7.4%\n"
     ]
    },
    {
     "name": "stderr",
     "output_type": "stream",
     "text": [
      "/disk211/public/anaconda3/envs/labBase/lib/python3.8/site-packages/scanpy/preprocessing/_normalization.py:170: UserWarning: Received a view of an AnnData. Making a copy.\n",
      "  view_to_actual(adata)\n"
     ]
    },
    {
     "name": "stdout",
     "output_type": "stream",
     "text": [
      "Automatically set threshold at doublet score = 0.58\n",
      "Detected doublet rate = 0.0%\n",
      "Estimated detectable doublet fraction = 0.0%\n",
      "Overall doublet rate:\n",
      "\tExpected   = 5.0%\n",
      "\tEstimated  = 0.0%\n"
     ]
    },
    {
     "name": "stderr",
     "output_type": "stream",
     "text": [
      "/disk211/public/anaconda3/envs/labBase/lib/python3.8/site-packages/scanpy/preprocessing/_normalization.py:170: UserWarning: Received a view of an AnnData. Making a copy.\n",
      "  view_to_actual(adata)\n"
     ]
    },
    {
     "name": "stdout",
     "output_type": "stream",
     "text": [
      "Automatically set threshold at doublet score = 0.49\n",
      "Detected doublet rate = 0.0%\n",
      "Estimated detectable doublet fraction = 0.0%\n",
      "Overall doublet rate:\n",
      "\tExpected   = 5.0%\n",
      "\tEstimated  = 0.0%\n"
     ]
    },
    {
     "name": "stderr",
     "output_type": "stream",
     "text": [
      "/disk211/public/anaconda3/envs/labBase/lib/python3.8/site-packages/scanpy/preprocessing/_normalization.py:170: UserWarning: Received a view of an AnnData. Making a copy.\n",
      "  view_to_actual(adata)\n"
     ]
    },
    {
     "name": "stdout",
     "output_type": "stream",
     "text": [
      "Automatically set threshold at doublet score = 0.57\n",
      "Detected doublet rate = 0.0%\n",
      "Estimated detectable doublet fraction = 0.0%\n",
      "Overall doublet rate:\n",
      "\tExpected   = 5.0%\n",
      "\tEstimated  = 0.0%\n"
     ]
    },
    {
     "name": "stderr",
     "output_type": "stream",
     "text": [
      "/disk211/public/anaconda3/envs/labBase/lib/python3.8/site-packages/scanpy/preprocessing/_normalization.py:170: UserWarning: Received a view of an AnnData. Making a copy.\n",
      "  view_to_actual(adata)\n"
     ]
    },
    {
     "name": "stdout",
     "output_type": "stream",
     "text": [
      "Automatically set threshold at doublet score = 0.26\n",
      "Detected doublet rate = 1.8%\n",
      "Estimated detectable doublet fraction = 14.2%\n",
      "Overall doublet rate:\n",
      "\tExpected   = 5.0%\n",
      "\tEstimated  = 12.7%\n"
     ]
    },
    {
     "name": "stderr",
     "output_type": "stream",
     "text": [
      "/disk211/public/anaconda3/envs/labBase/lib/python3.8/site-packages/scanpy/preprocessing/_normalization.py:170: UserWarning: Received a view of an AnnData. Making a copy.\n",
      "  view_to_actual(adata)\n"
     ]
    },
    {
     "name": "stdout",
     "output_type": "stream",
     "text": [
      "Automatically set threshold at doublet score = 0.61\n",
      "Detected doublet rate = 0.0%\n",
      "Estimated detectable doublet fraction = 0.0%\n",
      "Overall doublet rate:\n",
      "\tExpected   = 5.0%\n",
      "\tEstimated  = 0.0%\n"
     ]
    },
    {
     "name": "stderr",
     "output_type": "stream",
     "text": [
      "/disk211/public/anaconda3/envs/labBase/lib/python3.8/site-packages/scanpy/preprocessing/_normalization.py:170: UserWarning: Received a view of an AnnData. Making a copy.\n",
      "  view_to_actual(adata)\n"
     ]
    },
    {
     "name": "stdout",
     "output_type": "stream",
     "text": [
      "Automatically set threshold at doublet score = 0.62\n",
      "Detected doublet rate = 0.1%\n",
      "Estimated detectable doublet fraction = 1.1%\n",
      "Overall doublet rate:\n",
      "\tExpected   = 5.0%\n",
      "\tEstimated  = 7.2%\n"
     ]
    },
    {
     "name": "stderr",
     "output_type": "stream",
     "text": [
      "/disk211/public/anaconda3/envs/labBase/lib/python3.8/site-packages/scanpy/preprocessing/_normalization.py:170: UserWarning: Received a view of an AnnData. Making a copy.\n",
      "  view_to_actual(adata)\n"
     ]
    },
    {
     "name": "stdout",
     "output_type": "stream",
     "text": [
      "Automatically set threshold at doublet score = 0.62\n",
      "Detected doublet rate = 0.1%\n",
      "Estimated detectable doublet fraction = 0.8%\n",
      "Overall doublet rate:\n",
      "\tExpected   = 5.0%\n",
      "\tEstimated  = 6.8%\n"
     ]
    },
    {
     "name": "stderr",
     "output_type": "stream",
     "text": [
      "/disk211/public/anaconda3/envs/labBase/lib/python3.8/site-packages/scanpy/preprocessing/_normalization.py:170: UserWarning: Received a view of an AnnData. Making a copy.\n",
      "  view_to_actual(adata)\n"
     ]
    },
    {
     "name": "stdout",
     "output_type": "stream",
     "text": [
      "Automatically set threshold at doublet score = 0.55\n",
      "Detected doublet rate = 0.1%\n",
      "Estimated detectable doublet fraction = 0.4%\n",
      "Overall doublet rate:\n",
      "\tExpected   = 5.0%\n",
      "\tEstimated  = 14.3%\n"
     ]
    },
    {
     "name": "stderr",
     "output_type": "stream",
     "text": [
      "/disk211/public/anaconda3/envs/labBase/lib/python3.8/site-packages/scanpy/preprocessing/_normalization.py:170: UserWarning: Received a view of an AnnData. Making a copy.\n",
      "  view_to_actual(adata)\n"
     ]
    },
    {
     "name": "stdout",
     "output_type": "stream",
     "text": [
      "Automatically set threshold at doublet score = 0.23\n",
      "Detected doublet rate = 2.2%\n",
      "Estimated detectable doublet fraction = 18.1%\n",
      "Overall doublet rate:\n",
      "\tExpected   = 5.0%\n",
      "\tEstimated  = 12.2%\n"
     ]
    },
    {
     "name": "stderr",
     "output_type": "stream",
     "text": [
      "/disk211/public/anaconda3/envs/labBase/lib/python3.8/site-packages/scanpy/preprocessing/_normalization.py:170: UserWarning: Received a view of an AnnData. Making a copy.\n",
      "  view_to_actual(adata)\n"
     ]
    },
    {
     "name": "stdout",
     "output_type": "stream",
     "text": [
      "Automatically set threshold at doublet score = 0.57\n",
      "Detected doublet rate = 0.0%\n",
      "Estimated detectable doublet fraction = 0.4%\n",
      "Overall doublet rate:\n",
      "\tExpected   = 5.0%\n",
      "\tEstimated  = 7.8%\n"
     ]
    },
    {
     "name": "stderr",
     "output_type": "stream",
     "text": [
      "/disk211/public/anaconda3/envs/labBase/lib/python3.8/site-packages/scanpy/preprocessing/_normalization.py:170: UserWarning: Received a view of an AnnData. Making a copy.\n",
      "  view_to_actual(adata)\n"
     ]
    },
    {
     "name": "stdout",
     "output_type": "stream",
     "text": [
      "Automatically set threshold at doublet score = 0.26\n",
      "Detected doublet rate = 1.2%\n",
      "Estimated detectable doublet fraction = 18.3%\n",
      "Overall doublet rate:\n",
      "\tExpected   = 5.0%\n",
      "\tEstimated  = 6.3%\n"
     ]
    },
    {
     "name": "stderr",
     "output_type": "stream",
     "text": [
      "/disk211/public/anaconda3/envs/labBase/lib/python3.8/site-packages/scanpy/preprocessing/_normalization.py:170: UserWarning: Received a view of an AnnData. Making a copy.\n",
      "  view_to_actual(adata)\n"
     ]
    },
    {
     "name": "stdout",
     "output_type": "stream",
     "text": [
      "Automatically set threshold at doublet score = 0.33\n",
      "Detected doublet rate = 0.8%\n",
      "Estimated detectable doublet fraction = 15.4%\n",
      "Overall doublet rate:\n",
      "\tExpected   = 5.0%\n",
      "\tEstimated  = 5.2%\n"
     ]
    },
    {
     "name": "stderr",
     "output_type": "stream",
     "text": [
      "/disk211/public/anaconda3/envs/labBase/lib/python3.8/site-packages/scanpy/preprocessing/_normalization.py:170: UserWarning: Received a view of an AnnData. Making a copy.\n",
      "  view_to_actual(adata)\n"
     ]
    },
    {
     "name": "stdout",
     "output_type": "stream",
     "text": [
      "Automatically set threshold at doublet score = 0.63\n",
      "Detected doublet rate = 0.1%\n",
      "Estimated detectable doublet fraction = 0.7%\n",
      "Overall doublet rate:\n",
      "\tExpected   = 5.0%\n",
      "\tEstimated  = 7.0%\n"
     ]
    },
    {
     "name": "stderr",
     "output_type": "stream",
     "text": [
      "/disk211/public/anaconda3/envs/labBase/lib/python3.8/site-packages/scanpy/preprocessing/_normalization.py:170: UserWarning: Received a view of an AnnData. Making a copy.\n",
      "  view_to_actual(adata)\n"
     ]
    },
    {
     "name": "stdout",
     "output_type": "stream",
     "text": [
      "Automatically set threshold at doublet score = 0.25\n",
      "Detected doublet rate = 1.9%\n",
      "Estimated detectable doublet fraction = 22.9%\n",
      "Overall doublet rate:\n",
      "\tExpected   = 5.0%\n",
      "\tEstimated  = 8.3%\n"
     ]
    },
    {
     "name": "stderr",
     "output_type": "stream",
     "text": [
      "/disk211/public/anaconda3/envs/labBase/lib/python3.8/site-packages/scanpy/preprocessing/_normalization.py:170: UserWarning: Received a view of an AnnData. Making a copy.\n",
      "  view_to_actual(adata)\n"
     ]
    },
    {
     "name": "stdout",
     "output_type": "stream",
     "text": [
      "Automatically set threshold at doublet score = 0.62\n",
      "Detected doublet rate = 0.0%\n",
      "Estimated detectable doublet fraction = 1.3%\n",
      "Overall doublet rate:\n",
      "\tExpected   = 5.0%\n",
      "\tEstimated  = 2.6%\n"
     ]
    },
    {
     "name": "stderr",
     "output_type": "stream",
     "text": [
      "/disk211/public/anaconda3/envs/labBase/lib/python3.8/site-packages/scanpy/preprocessing/_normalization.py:170: UserWarning: Received a view of an AnnData. Making a copy.\n",
      "  view_to_actual(adata)\n"
     ]
    },
    {
     "name": "stdout",
     "output_type": "stream",
     "text": [
      "Automatically set threshold at doublet score = 0.43\n",
      "Detected doublet rate = 0.4%\n",
      "Estimated detectable doublet fraction = 3.8%\n",
      "Overall doublet rate:\n",
      "\tExpected   = 5.0%\n",
      "\tEstimated  = 9.9%\n"
     ]
    },
    {
     "name": "stderr",
     "output_type": "stream",
     "text": [
      "/disk211/public/anaconda3/envs/labBase/lib/python3.8/site-packages/scanpy/preprocessing/_normalization.py:170: UserWarning: Received a view of an AnnData. Making a copy.\n",
      "  view_to_actual(adata)\n"
     ]
    },
    {
     "name": "stdout",
     "output_type": "stream",
     "text": [
      "Automatically set threshold at doublet score = 0.43\n",
      "Detected doublet rate = 0.0%\n",
      "Estimated detectable doublet fraction = 0.1%\n",
      "Overall doublet rate:\n",
      "\tExpected   = 5.0%\n",
      "\tEstimated  = 18.2%\n"
     ]
    },
    {
     "name": "stderr",
     "output_type": "stream",
     "text": [
      "/disk211/public/anaconda3/envs/labBase/lib/python3.8/site-packages/scanpy/preprocessing/_normalization.py:170: UserWarning: Received a view of an AnnData. Making a copy.\n",
      "  view_to_actual(adata)\n"
     ]
    },
    {
     "name": "stdout",
     "output_type": "stream",
     "text": [
      "Automatically set threshold at doublet score = 0.26\n",
      "Detected doublet rate = 1.5%\n",
      "Estimated detectable doublet fraction = 25.7%\n",
      "Overall doublet rate:\n",
      "\tExpected   = 5.0%\n",
      "\tEstimated  = 5.9%\n"
     ]
    },
    {
     "name": "stderr",
     "output_type": "stream",
     "text": [
      "/disk211/public/anaconda3/envs/labBase/lib/python3.8/site-packages/scanpy/preprocessing/_normalization.py:170: UserWarning: Received a view of an AnnData. Making a copy.\n",
      "  view_to_actual(adata)\n"
     ]
    },
    {
     "name": "stdout",
     "output_type": "stream",
     "text": [
      "Automatically set threshold at doublet score = 0.27\n",
      "Detected doublet rate = 1.3%\n",
      "Estimated detectable doublet fraction = 20.9%\n",
      "Overall doublet rate:\n",
      "\tExpected   = 5.0%\n",
      "\tEstimated  = 6.1%\n"
     ]
    },
    {
     "name": "stderr",
     "output_type": "stream",
     "text": [
      "/disk211/public/anaconda3/envs/labBase/lib/python3.8/site-packages/scanpy/preprocessing/_normalization.py:170: UserWarning: Received a view of an AnnData. Making a copy.\n",
      "  view_to_actual(adata)\n"
     ]
    },
    {
     "name": "stdout",
     "output_type": "stream",
     "text": [
      "Automatically set threshold at doublet score = 0.24\n",
      "Detected doublet rate = 2.4%\n",
      "Estimated detectable doublet fraction = 26.5%\n",
      "Overall doublet rate:\n",
      "\tExpected   = 5.0%\n",
      "\tEstimated  = 9.1%\n"
     ]
    },
    {
     "name": "stderr",
     "output_type": "stream",
     "text": [
      "/disk211/public/anaconda3/envs/labBase/lib/python3.8/site-packages/scanpy/preprocessing/_normalization.py:170: UserWarning: Received a view of an AnnData. Making a copy.\n",
      "  view_to_actual(adata)\n"
     ]
    },
    {
     "name": "stdout",
     "output_type": "stream",
     "text": [
      "Automatically set threshold at doublet score = 0.29\n",
      "Detected doublet rate = 0.0%\n",
      "Estimated detectable doublet fraction = 0.0%\n",
      "Overall doublet rate:\n",
      "\tExpected   = 5.0%\n",
      "\tEstimated  = 0.0%\n"
     ]
    },
    {
     "name": "stderr",
     "output_type": "stream",
     "text": [
      "/disk211/public/anaconda3/envs/labBase/lib/python3.8/site-packages/scanpy/preprocessing/_normalization.py:170: UserWarning: Received a view of an AnnData. Making a copy.\n",
      "  view_to_actual(adata)\n"
     ]
    },
    {
     "name": "stdout",
     "output_type": "stream",
     "text": [
      "Automatically set threshold at doublet score = 0.21\n",
      "Detected doublet rate = 2.5%\n",
      "Estimated detectable doublet fraction = 22.4%\n",
      "Overall doublet rate:\n",
      "\tExpected   = 5.0%\n",
      "\tEstimated  = 11.2%\n"
     ]
    },
    {
     "name": "stderr",
     "output_type": "stream",
     "text": [
      "/disk211/public/anaconda3/envs/labBase/lib/python3.8/site-packages/scanpy/preprocessing/_normalization.py:170: UserWarning: Received a view of an AnnData. Making a copy.\n",
      "  view_to_actual(adata)\n"
     ]
    },
    {
     "name": "stdout",
     "output_type": "stream",
     "text": [
      "Automatically set threshold at doublet score = 0.56\n",
      "Detected doublet rate = 0.0%\n",
      "Estimated detectable doublet fraction = 0.0%\n",
      "Overall doublet rate:\n",
      "\tExpected   = 5.0%\n",
      "\tEstimated  = 0.0%\n"
     ]
    },
    {
     "name": "stderr",
     "output_type": "stream",
     "text": [
      "/disk211/public/anaconda3/envs/labBase/lib/python3.8/site-packages/scanpy/preprocessing/_normalization.py:170: UserWarning: Received a view of an AnnData. Making a copy.\n",
      "  view_to_actual(adata)\n"
     ]
    },
    {
     "name": "stdout",
     "output_type": "stream",
     "text": [
      "Automatically set threshold at doublet score = 0.56\n",
      "Detected doublet rate = 0.0%\n",
      "Estimated detectable doublet fraction = 0.1%\n",
      "Overall doublet rate:\n",
      "\tExpected   = 5.0%\n",
      "\tEstimated  = 0.0%\n"
     ]
    },
    {
     "name": "stderr",
     "output_type": "stream",
     "text": [
      "/disk211/public/anaconda3/envs/labBase/lib/python3.8/site-packages/scanpy/preprocessing/_normalization.py:170: UserWarning: Received a view of an AnnData. Making a copy.\n",
      "  view_to_actual(adata)\n"
     ]
    },
    {
     "name": "stdout",
     "output_type": "stream",
     "text": [
      "Automatically set threshold at doublet score = 0.33\n",
      "Detected doublet rate = 0.1%\n",
      "Estimated detectable doublet fraction = 1.5%\n",
      "Overall doublet rate:\n",
      "\tExpected   = 5.0%\n",
      "\tEstimated  = 6.3%\n"
     ]
    },
    {
     "name": "stderr",
     "output_type": "stream",
     "text": [
      "/disk211/public/anaconda3/envs/labBase/lib/python3.8/site-packages/scanpy/preprocessing/_normalization.py:170: UserWarning: Received a view of an AnnData. Making a copy.\n",
      "  view_to_actual(adata)\n"
     ]
    },
    {
     "name": "stdout",
     "output_type": "stream",
     "text": [
      "Automatically set threshold at doublet score = 0.42\n",
      "Detected doublet rate = 0.1%\n",
      "Estimated detectable doublet fraction = 0.5%\n",
      "Overall doublet rate:\n",
      "\tExpected   = 5.0%\n",
      "\tEstimated  = 13.8%\n"
     ]
    },
    {
     "name": "stderr",
     "output_type": "stream",
     "text": [
      "/disk211/public/anaconda3/envs/labBase/lib/python3.8/site-packages/scanpy/preprocessing/_normalization.py:170: UserWarning: Received a view of an AnnData. Making a copy.\n",
      "  view_to_actual(adata)\n"
     ]
    },
    {
     "name": "stdout",
     "output_type": "stream",
     "text": [
      "Automatically set threshold at doublet score = 0.48\n",
      "Detected doublet rate = 0.0%\n",
      "Estimated detectable doublet fraction = 0.1%\n",
      "Overall doublet rate:\n",
      "\tExpected   = 5.0%\n",
      "\tEstimated  = 0.0%\n"
     ]
    },
    {
     "name": "stderr",
     "output_type": "stream",
     "text": [
      "/disk211/public/anaconda3/envs/labBase/lib/python3.8/site-packages/scanpy/preprocessing/_normalization.py:170: UserWarning: Received a view of an AnnData. Making a copy.\n",
      "  view_to_actual(adata)\n"
     ]
    },
    {
     "name": "stdout",
     "output_type": "stream",
     "text": [
      "Automatically set threshold at doublet score = 0.54\n",
      "Detected doublet rate = 0.0%\n",
      "Estimated detectable doublet fraction = 0.9%\n",
      "Overall doublet rate:\n",
      "\tExpected   = 5.0%\n",
      "\tEstimated  = 4.7%\n"
     ]
    },
    {
     "name": "stderr",
     "output_type": "stream",
     "text": [
      "/disk211/public/anaconda3/envs/labBase/lib/python3.8/site-packages/scanpy/preprocessing/_normalization.py:170: UserWarning: Received a view of an AnnData. Making a copy.\n",
      "  view_to_actual(adata)\n"
     ]
    },
    {
     "name": "stdout",
     "output_type": "stream",
     "text": [
      "Automatically set threshold at doublet score = 0.36\n",
      "Detected doublet rate = 0.2%\n",
      "Estimated detectable doublet fraction = 3.5%\n",
      "Overall doublet rate:\n",
      "\tExpected   = 5.0%\n",
      "\tEstimated  = 6.1%\n"
     ]
    },
    {
     "name": "stderr",
     "output_type": "stream",
     "text": [
      "/disk211/public/anaconda3/envs/labBase/lib/python3.8/site-packages/scanpy/preprocessing/_normalization.py:170: UserWarning: Received a view of an AnnData. Making a copy.\n",
      "  view_to_actual(adata)\n"
     ]
    },
    {
     "name": "stdout",
     "output_type": "stream",
     "text": [
      "Automatically set threshold at doublet score = 0.54\n",
      "Detected doublet rate = 0.1%\n",
      "Estimated detectable doublet fraction = 0.9%\n",
      "Overall doublet rate:\n",
      "\tExpected   = 5.0%\n",
      "\tEstimated  = 8.9%\n"
     ]
    },
    {
     "name": "stderr",
     "output_type": "stream",
     "text": [
      "/disk211/public/anaconda3/envs/labBase/lib/python3.8/site-packages/scanpy/preprocessing/_normalization.py:170: UserWarning: Received a view of an AnnData. Making a copy.\n",
      "  view_to_actual(adata)\n"
     ]
    },
    {
     "name": "stdout",
     "output_type": "stream",
     "text": [
      "Automatically set threshold at doublet score = 0.55\n",
      "Detected doublet rate = 0.0%\n",
      "Estimated detectable doublet fraction = 0.5%\n",
      "Overall doublet rate:\n",
      "\tExpected   = 5.0%\n",
      "\tEstimated  = 4.2%\n"
     ]
    },
    {
     "name": "stderr",
     "output_type": "stream",
     "text": [
      "/disk211/public/anaconda3/envs/labBase/lib/python3.8/site-packages/scanpy/preprocessing/_normalization.py:170: UserWarning: Received a view of an AnnData. Making a copy.\n",
      "  view_to_actual(adata)\n"
     ]
    },
    {
     "name": "stdout",
     "output_type": "stream",
     "text": [
      "Automatically set threshold at doublet score = 0.30\n",
      "Detected doublet rate = 1.2%\n",
      "Estimated detectable doublet fraction = 24.3%\n",
      "Overall doublet rate:\n",
      "\tExpected   = 5.0%\n",
      "\tEstimated  = 4.8%\n"
     ]
    },
    {
     "name": "stderr",
     "output_type": "stream",
     "text": [
      "/disk211/public/anaconda3/envs/labBase/lib/python3.8/site-packages/scanpy/preprocessing/_normalization.py:170: UserWarning: Received a view of an AnnData. Making a copy.\n",
      "  view_to_actual(adata)\n"
     ]
    },
    {
     "name": "stdout",
     "output_type": "stream",
     "text": [
      "Automatically set threshold at doublet score = 0.29\n",
      "Detected doublet rate = 1.2%\n",
      "Estimated detectable doublet fraction = 26.0%\n",
      "Overall doublet rate:\n",
      "\tExpected   = 5.0%\n",
      "\tEstimated  = 4.7%\n"
     ]
    },
    {
     "name": "stderr",
     "output_type": "stream",
     "text": [
      "/disk211/public/anaconda3/envs/labBase/lib/python3.8/site-packages/scanpy/preprocessing/_normalization.py:170: UserWarning: Received a view of an AnnData. Making a copy.\n",
      "  view_to_actual(adata)\n"
     ]
    },
    {
     "name": "stdout",
     "output_type": "stream",
     "text": [
      "Automatically set threshold at doublet score = 0.27\n",
      "Detected doublet rate = 1.3%\n",
      "Estimated detectable doublet fraction = 25.5%\n",
      "Overall doublet rate:\n",
      "\tExpected   = 5.0%\n",
      "\tEstimated  = 5.2%\n"
     ]
    },
    {
     "name": "stderr",
     "output_type": "stream",
     "text": [
      "/disk211/public/anaconda3/envs/labBase/lib/python3.8/site-packages/scanpy/preprocessing/_normalization.py:170: UserWarning: Received a view of an AnnData. Making a copy.\n",
      "  view_to_actual(adata)\n"
     ]
    },
    {
     "name": "stdout",
     "output_type": "stream",
     "text": [
      "Automatically set threshold at doublet score = 0.56\n",
      "Detected doublet rate = 0.3%\n",
      "Estimated detectable doublet fraction = 6.2%\n",
      "Overall doublet rate:\n",
      "\tExpected   = 5.0%\n",
      "\tEstimated  = 5.7%\n"
     ]
    },
    {
     "name": "stderr",
     "output_type": "stream",
     "text": [
      "/disk211/public/anaconda3/envs/labBase/lib/python3.8/site-packages/scanpy/preprocessing/_normalization.py:170: UserWarning: Received a view of an AnnData. Making a copy.\n",
      "  view_to_actual(adata)\n"
     ]
    },
    {
     "name": "stdout",
     "output_type": "stream",
     "text": [
      "Automatically set threshold at doublet score = 0.57\n",
      "Detected doublet rate = 0.1%\n",
      "Estimated detectable doublet fraction = 2.5%\n",
      "Overall doublet rate:\n",
      "\tExpected   = 5.0%\n",
      "\tEstimated  = 5.1%\n"
     ]
    },
    {
     "name": "stderr",
     "output_type": "stream",
     "text": [
      "/disk211/public/anaconda3/envs/labBase/lib/python3.8/site-packages/scanpy/preprocessing/_normalization.py:170: UserWarning: Received a view of an AnnData. Making a copy.\n",
      "  view_to_actual(adata)\n"
     ]
    },
    {
     "name": "stdout",
     "output_type": "stream",
     "text": [
      "Automatically set threshold at doublet score = 0.58\n",
      "Detected doublet rate = 0.2%\n",
      "Estimated detectable doublet fraction = 2.9%\n",
      "Overall doublet rate:\n",
      "\tExpected   = 5.0%\n",
      "\tEstimated  = 5.4%\n"
     ]
    },
    {
     "name": "stderr",
     "output_type": "stream",
     "text": [
      "/disk211/public/anaconda3/envs/labBase/lib/python3.8/site-packages/scanpy/preprocessing/_normalization.py:170: UserWarning: Received a view of an AnnData. Making a copy.\n",
      "  view_to_actual(adata)\n"
     ]
    },
    {
     "name": "stdout",
     "output_type": "stream",
     "text": [
      "Automatically set threshold at doublet score = 0.24\n",
      "Detected doublet rate = 2.3%\n",
      "Estimated detectable doublet fraction = 33.2%\n",
      "Overall doublet rate:\n",
      "\tExpected   = 5.0%\n",
      "\tEstimated  = 6.9%\n"
     ]
    }
   ],
   "source": [
    "mtgene=pd.read_csv('./mtgene.csv')#导入线粒体基因\n",
    "PATH=[#Small intestine\n",
    "      '/disk191_3/AnalysisPipline/Pig/2_SingleCellRNA/CNP0002165/Insestine/outs/filtered_feature_bc_matrix',\n",
    "      '/disk212/yupf/database/scRNA-seq/fastq/ileum/ileum0/filtered_feature_bc_matrix',\n",
    "      '/disk212/yupf/database/scRNA-seq/fastq/ileum/ileum1/filtered_feature_bc_matrix',\n",
    "      '/disk212/yupf/database/scRNA-seq/fastq/ileum/ileum3/filtered_feature_bc_matrix',\n",
    "      '/disk212/yupf/database/scRNA-seq/fastq/ileum/ileum7/filtered_feature_bc_matrix',\n",
    "      '/disk212/yupf/database/scRNA-seq/fastq/ileum/ileum14/filtered_feature_bc_matrix',\n",
    "      '/disk212/yupf/database/scRNA-seq/fastq/ileum/ileum21/filtered_feature_bc_matrix',\n",
    "      '/disk191_3/AnalysisPipline/Pig/2_SingleCellRNA/Pro0_JH/jejunum/outs/filtered_feature_bc_matrix',#sequencing\n",
    "      '/disk191_3/AnalysisPipline/Pig/2_SingleCellRNA/PRJNA728441/NSP1/outs/filtered_feature_bc_matrix',\n",
    "      '/disk191_3/AnalysisPipline/Pig/2_SingleCellRNA/PRJNA728441/NSP2/outs/filtered_feature_bc_matrix',\n",
    "      '/disk191_3/AnalysisPipline/Pig/2_SingleCellRNA/PRJNA728441/NSP3/outs/filtered_feature_bc_matrix',\n",
    "      '/disk191_3/AnalysisPipline/Pig/2_SingleCellRNA/PRJNA728441/PWP1/outs/filtered_feature_bc_matrix',\n",
    "      '/disk191_3/AnalysisPipline/Pig/2_SingleCellRNA/PRJNA728441/PWP2/outs/filtered_feature_bc_matrix',\n",
    "      '/disk191_3/AnalysisPipline/Pig/2_SingleCellRNA/PRJNA728441/PWP3/outs/filtered_feature_bc_matrix',\n",
    "      '/disk191_3/AnalysisPipline/Pig/2_SingleCellRNA/PRJNA732355/PEDCase/PEDCase/outs/filtered_feature_bc_matrix',\n",
    "      '/disk191_3/AnalysisPipline/Pig/2_SingleCellRNA/PRJNA732355/PEDControl/PEDControl/outs/filtered_feature_bc_matrix',\n",
    "      '/disk191_3/AnalysisPipline/Pig/2_SingleCellRNA/PRJNA806770/Bama/Bama/outs/filtered_feature_bc_matrix',\n",
    "      '/disk191_3/AnalysisPipline/Pig/2_SingleCellRNA/Pro1_JH/1_counts/DU_0/outs/filtered_feature_bc_matrix',#sequencing\n",
    "      '/disk191_3/AnalysisPipline/Pig/2_SingleCellRNA/Pro1_JH/1_counts/DU_60/outs/filtered_feature_bc_matrix',#sequencing\n",
    "      '/disk191_3/AnalysisPipline/Pig/2_SingleCellRNA/Pro1_JH/1_counts/DU_90/outs/filtered_feature_bc_matrix',#sequencing\n",
    "      '/disk191_3/AnalysisPipline/Pig/2_SingleCellRNA/Pro1_JH/1_counts/DU_180/outs/filtered_feature_bc_matrix',#sequencing\n",
    "      '/disk191_3/LabData/Pig/2_SingleCellRNA/Pro7_JH/X101SC22101740-Z01-J006-B6-1_10X_release_20221226/Cleandata/DU_240/outs/filtered_feature_bc_matrix',#sequencing\n",
    "      '/disk191_3/AnalysisPipline/Pig/2_SingleCellRNA/Pro1_JH/1_counts/JE_0/outs/filtered_feature_bc_matrix',#sequencing\n",
    "      '/disk191_3/AnalysisPipline/Pig/2_SingleCellRNA/Pro1_JH/1_counts/JE_60/outs/filtered_feature_bc_matrix',#sequencing\n",
    "      '/disk191_3/AnalysisPipline/Pig/2_SingleCellRNA/Pro1_JH/1_counts/JE_90/outs/filtered_feature_bc_matrix',#sequencing\n",
    "      '/disk191_3/AnalysisPipline/Pig/2_SingleCellRNA/Pro1_JH/1_counts/JE_180/outs/filtered_feature_bc_matrix',#sequencing\n",
    "      '/disk191_3/LabData/Pig/2_SingleCellRNA/Pro7_JH/X101SC22101740-Z01-J006-B6-1_10X_release_20221226/Cleandata/JE_240/outs/filtered_feature_bc_matrix',#sequencing\n",
    "      '/disk191_3/AnalysisPipline/Pig/2_SingleCellRNA/Pro1_JH/1_counts/IL_0/outs/filtered_feature_bc_matrix',#sequencing\n",
    "      '/disk191_3/AnalysisPipline/Pig/2_SingleCellRNA/Pro1_JH/1_counts/IL_60/outs/filtered_feature_bc_matrix',#sequencing\n",
    "      '/disk191_3/AnalysisPipline/Pig/2_SingleCellRNA/Pro1_JH/1_counts/IL_90/outs/filtered_feature_bc_matrix',#sequencing\n",
    "      '/disk191_3/AnalysisPipline/Pig/2_SingleCellRNA/Pro1_JH/1_counts/IL_180/outs/filtered_feature_bc_matrix',#sequencing\n",
    "      '/disk191_3/LabData/Pig/2_SingleCellRNA/Pro7_JH/X101SC22101740-Z01-J006-B6-1_10X_release_20221226/Cleandata/IL_240/outs/filtered_feature_bc_matrix',#sequencing\n",
    "      '/disk191_4/LabData/Pig/2_SingleCellRNA/Pro12/all/DUR_DU/outs/filtered_feature_bc_matrix',#sequencing\n",
    "      '/disk191_4/LabData/Pig/2_SingleCellRNA/Pro12/all/DUR_JE/outs/filtered_feature_bc_matrix',#sequencing \n",
    "      '/disk191_4/LabData/Pig/2_SingleCellRNA/Pro12/all/DUR_IL/outs/filtered_feature_bc_matrix',#sequencing\n",
    "      '/disk191_4/LabData/Pig/2_SingleCellRNA/Pro12/all/EB5_DU/outs/filtered_feature_bc_matrix',#sequencing\n",
    "      '/disk191_4/LabData/Pig/2_SingleCellRNA/Pro12/all/EB5_JE/outs/filtered_feature_bc_matrix',#sequencing \n",
    "      '/disk191_4/LabData/Pig/2_SingleCellRNA/Pro12/all/EB5_IL/outs/filtered_feature_bc_matrix',#sequencing\n",
    "      '/disk191_3/LabData/Pig/2_SingleCellRNA/Pro8/X101SC22101740-Z01-J003/Cleandata/DU_Ss/outs/filtered_feature_bc_matrix',#sequencing\n",
    "      '/disk191_3/LabData/Pig/2_SingleCellRNA/Pro8/X101SC22101740-Z01-J003/Cleandata/JE_Ss/outs/filtered_feature_bc_matrix',#sequencing\n",
    "      '/disk191_3/LabData/Pig/2_SingleCellRNA/Pro8/X101SC22101740-Z01-J003/Cleandata/IL_Ss/outs/filtered_feature_bc_matrix',#sequencing            \n",
    "      #Large intestine\n",
    "      '/disk191_3/AnalysisPipline/Pig/2_SingleCellRNA/PRJNA685448/Piglet_day0/Piglet_day0/outs/filtered_feature_bc_matrix',\n",
    "      '/disk191_3/AnalysisPipline/Pig/2_SingleCellRNA/PRJNA685448/Piglet_day7/Piglet_day7/outs/filtered_feature_bc_matrix',\n",
    "      '/disk191_3/AnalysisPipline/Pig/2_SingleCellRNA/PRJNA685448/Piglet_day14/Piglet_day14/outs/filtered_feature_bc_matrix',\n",
    "      '/disk191_3/AnalysisPipline/Pig/2_SingleCellRNA/PRJNA685448/Piglet_day21/Piglet_day21/outs/filtered_feature_bc_matrix',\n",
    "      '/disk191_3/AnalysisPipline/Pig/2_SingleCellRNA/Pro0_JH/cecum/outs/filtered_feature_bc_matrix',#sequencing\n",
    "      '/disk191_3/AnalysisPipline/Pig/2_SingleCellRNA/Pro0_JH/colon/outs/filtered_feature_bc_matrix',#sequencing\n",
    "      '/disk191_3/AnalysisPipline/Pig/2_SingleCellRNA/Pro1_JH/1_counts/CE_0/outs/filtered_feature_bc_matrix',#sequencing\n",
    "      '/disk191_3/AnalysisPipline/Pig/2_SingleCellRNA/Pro1_JH/1_counts/CE_60/outs/filtered_feature_bc_matrix',#sequencing\n",
    "      '/disk191_3/AnalysisPipline/Pig/2_SingleCellRNA/Pro1_JH/1_counts/CE_90/outs/filtered_feature_bc_matrix',#sequencing\n",
    "      '/disk191_3/AnalysisPipline/Pig/2_SingleCellRNA/Pro1_JH/1_counts/CE_180/outs/filtered_feature_bc_matrix',#sequencing\n",
    "      '/disk191_3/AnalysisPipline/Pig/2_SingleCellRNA/Pro1_JH/1_counts/CO_0/outs/filtered_feature_bc_matrix',#sequencing\n",
    "      '/disk191_3/AnalysisPipline/Pig/2_SingleCellRNA/Pro1_JH/1_counts/CO_60/outs/filtered_feature_bc_matrix',#sequencing\n",
    "      '/disk191_3/AnalysisPipline/Pig/2_SingleCellRNA/Pro1_JH/1_counts/CO_90/outs/filtered_feature_bc_matrix',#sequencing\n",
    "      '/disk191_3/AnalysisPipline/Pig/2_SingleCellRNA/Pro1_JH/1_counts/CO_180/outs/filtered_feature_bc_matrix',#sequencing\n",
    "      '/disk191_3/LabData/Pig/2_SingleCellRNA/Pro7_JH/X101SC22101740-Z01-J006-B6-1_10X_release_20221226/Cleandata/CE_240/outs/filtered_feature_bc_matrix',#sequencing\n",
    "      '/disk191_3/LabData/Pig/2_SingleCellRNA/Pro7_JH/X101SC22101740-Z01-J006-B6-1_10X_release_20221226/Cleandata/CO_240/outs/filtered_feature_bc_matrix',#sequencing\n",
    "      '/disk191_4/LabData/Pig/2_SingleCellRNA/Pro12/all/DUR_CE/outs/filtered_feature_bc_matrix',#sequencing\n",
    "      '/disk191_4/LabData/Pig/2_SingleCellRNA/Pro12/all/DUR_CO/outs/filtered_feature_bc_matrix',#sequencing\n",
    "      '/disk191_4/LabData/Pig/2_SingleCellRNA/Pro12/all/EB5_CE/outs/filtered_feature_bc_matrix',#sequencing\n",
    "      '/disk191_4/LabData/Pig/2_SingleCellRNA/Pro12/all/EB5_CO/outs/filtered_feature_bc_matrix',#sequencing\n",
    "      '/disk191_3/LabData/Pig/2_SingleCellRNA/Pro8/X101SC22101740-Z01-J003/Cleandata/CE_Ss/outs/filtered_feature_bc_matrix',#sequencing\n",
    "      '/disk191_3/LabData/Pig/2_SingleCellRNA/Pro8/X101SC22101740-Z01-J003/Cleandata/CO_Ss/outs/filtered_feature_bc_matrix',#sequencing\n",
    "      '/disk191_4/PublicData/Pig/2_SingleCellRNA/PRJNA859792/PRJNA859792/DUOD-1_count/outs/filtered_feature_bc_matrix',\n",
    "      '/disk191_4/PublicData/Pig/2_SingleCellRNA/PRJNA859792/PRJNA859792/DUOD-2_count/outs/filtered_feature_bc_matrix',\n",
    "      '/disk191_4/PublicData/Pig/2_SingleCellRNA/PRJNA859792/PRJNA859792/DUOD-3_count/outs/filtered_feature_bc_matrix',\n",
    "      '/disk191_4/PublicData/Pig/2_SingleCellRNA/PRJNA859792/PRJNA859792/DUOD-4_count/outs/filtered_feature_bc_matrix',\n",
    "      '/disk191_4/PublicData/Pig/2_SingleCellRNA/PRJNA859792/PRJNA859792/JEJ-1_count/outs/filtered_feature_bc_matrix',\n",
    "      '/disk191_4/PublicData/Pig/2_SingleCellRNA/PRJNA859792/PRJNA859792/JEJ-2_count/outs/filtered_feature_bc_matrix',\n",
    "      '/disk191_4/PublicData/Pig/2_SingleCellRNA/PRJNA859792/PRJNA859792/JEJ-3_count/outs/filtered_feature_bc_matrix',\n",
    "      '/disk191_4/PublicData/Pig/2_SingleCellRNA/PRJNA859792/PRJNA859792/JEJ-4_count/outs/filtered_feature_bc_matrix',\n",
    "      '/disk191_4/PublicData/Pig/2_SingleCellRNA/PRJNA859792/PRJNA859792/IPP-1_count/outs/filtered_feature_bc_matrix',\n",
    "      '/disk191_4/PublicData/Pig/2_SingleCellRNA/PRJNA859792/PRJNA859792/IPP-2_count/outs/filtered_feature_bc_matrix',\n",
    "      '/disk191_4/PublicData/Pig/2_SingleCellRNA/PRJNA859792/PRJNA859792/IPP-3_count/outs/filtered_feature_bc_matrix',\n",
    "      '/disk191_4/PublicData/Pig/2_SingleCellRNA/PRJNA859792/PRJNA859792/IPP-4_count/outs/filtered_feature_bc_matrix',\n",
    "      '/disk191_4/PublicData/Pig/2_SingleCellRNA/PRJNA859792/PRJNA859792/NoPP-1_count/outs/filtered_feature_bc_matrix',\n",
    "      '/disk191_4/PublicData/Pig/2_SingleCellRNA/PRJNA859792/PRJNA859792/NoPP-2_count/outs/filtered_feature_bc_matrix',\n",
    "      '/disk191_4/PublicData/Pig/2_SingleCellRNA/PRJNA859792/PRJNA859792/NoPP-4_count/outs/filtered_feature_bc_matrix'      \n",
    "      \n",
    "]\n",
    "ap={}\n",
    "sample=['CNP0002165',\n",
    "           'PRJNA681248_ileum0',\n",
    "           'PRJNA681248_ileum1',\n",
    "           'PRJNA681248_ileum3',\n",
    "           'PRJNA681248_ileum7',\n",
    "           'PRJNA681248_ileum14',\n",
    "           'PRJNA681248_ileum21',\n",
    "           'JH0_jejunum',\n",
    "           'PRJNA728441_NSP1',\n",
    "           'PRJNA728441_NSP2',\n",
    "           'PRJNA728441_NSP3',\n",
    "           'PRJNA728441_PWP1',\n",
    "           'PRJNA728441_PWP2',\n",
    "           'PRJNA728441_PWP3',\n",
    "           'PRJNA732355_PEDCase',\n",
    "           'PRJNA732355_PEDControl',\n",
    "           'PRJNA806770_Bama',\n",
    "           'JH_DU0',\n",
    "           'JH_DU60',\n",
    "           'JH_DU90',\n",
    "           'JH_DU180',\n",
    "           'JH_DU240',\n",
    "           'JH_JE0',\n",
    "           'JH_JE60',\n",
    "           'JH_JE90',\n",
    "           'JH_JE180',\n",
    "           'JH_JE240',\n",
    "           'JH_IL0',\n",
    "           'JH_IL60',\n",
    "           'JH_IL90',\n",
    "           'JH_IL180',\n",
    "           'JH_IL240',\n",
    "           'DUR_DU',\n",
    "           'DUR_JE',\n",
    "           'DUR_IL',\n",
    "           'EB5_DU',\n",
    "           'EB5_JE',\n",
    "           'EB5_IL',\n",
    "           'Ss_DU',\n",
    "           'Ss_JE',\n",
    "           'Ss_IL',\n",
    "           'PRJNA685448_Piglet_day0',\n",
    "           'PRJNA685448_Piglet_day7',\n",
    "           'PRJNA685448_Piglet_day14',\n",
    "           'PRJNA685448_Piglet_day21',\n",
    "           'JH0_cecum',\n",
    "           'JH0_colon',\n",
    "           'JH_CE0',\n",
    "           'JH_CE60',\n",
    "           'JH_CE90',\n",
    "           'JH_CE180',\n",
    "           'JH_CO0',\n",
    "           'JH_CO60',\n",
    "           'JH_CO90',\n",
    "           'JH_CO180',\n",
    "           'JH_CE240',\n",
    "           'JH_CO240',\n",
    "           'DUR_CE',\n",
    "           'DUR_CO',\n",
    "           'EB5_CE',\n",
    "           'EB5_CO',\n",
    "           'Ss_CE',\n",
    "           'Ss_CO',\n",
    "           'PRJNA859792_DUOD1',\n",
    "        'PRJNA859792_DUOD2',\n",
    "        'PRJNA859792_DUOD3',\n",
    "        'PRJNA859792_DUOD4',\n",
    "        'PRJNA859792_JEJ1',\n",
    "        'PRJNA859792_JEJ2',\n",
    "        'PRJNA859792_JEJ3',\n",
    "        'PRJNA859792_JEJ4',\n",
    "        'PRJNA859792_IPP1',\n",
    "        'PRJNA859792_IPP2',\n",
    "        'PRJNA859792_IPP3',\n",
    "        'PRJNA859792_IPP4',\n",
    "        'PRJNA859792_NoPP1',\n",
    "        'PRJNA859792_NoPP2',\n",
    "        'PRJNA859792_NoPP4']\n",
    "cellnum=pd.DataFrame(columns=['cell', 'gene'])\n",
    "qcnum=pd.DataFrame(columns=['cellqc', 'geneqc'])\n",
    "for i in range(0,len(PATH)):\n",
    "      ap[f'{sample[i]}']=sc.read_10x_mtx(PATH[i])\n",
    "      ap[f'{sample[i]}'].var_names_make_unique\n",
    "      sc.external.pp.scrublet(ap[f'{sample[i]}'])\n",
    "      x=['{}',f'{sample[i]}']\n",
    "      ap[f'{sample[i]}'].obs.index=ap[f'{sample[i]}'].obs.index.map('_'.join(x).format)#每个barcode后加上sample名\n",
    "      cellnum.loc[f'{sample[i]}'] = ap[f'{sample[i]}'].shape\n",
    "      sc.pp.filter_cells(ap[f'{sample[i]}'], min_genes=200)\n",
    "      sc.pp.filter_genes(ap[f'{sample[i]}'], min_cells=3)\n",
    "      ap[f'{sample[i]}'].var['mt'] = ap[f'{sample[i]}'].var_names.isin(mtgene['MT-genes'])  # annotate the group of mitochondrial genes as 'mt'\n",
    "      sc.pp.calculate_qc_metrics(ap[f'{sample[i]}'], qc_vars=['mt'], percent_top=None, log1p=False, inplace=True)\n",
    "      ap[f'{sample[i]}'] = ap[f'{sample[i]}'][ap[f'{sample[i]}'].obs.n_genes_by_counts < 7500, :]\n",
    "      ap[f'{sample[i]}'] = ap[f'{sample[i]}'][ap[f'{sample[i]}'].obs.n_genes_by_counts > 200, :]\n",
    "      ap[f'{sample[i]}'] = ap[f'{sample[i]}'][ap[f'{sample[i]}'].obs.pct_counts_mt <50, :]\n",
    "      ap[f'{sample[i]}'] = ap[f'{sample[i]}'][ap[f'{sample[i]}'].obs.predicted_doublet==False, :]\n",
    "      qcnum.loc[f'{sample[i]}'] = ap[f'{sample[i]}'].shape"
   ]
  },
  {
   "cell_type": "code",
   "execution_count": 69,
   "metadata": {},
   "outputs": [
    {
     "data": {
      "text/plain": [
       "{'CNP0002165': View of AnnData object with n_obs × n_vars = 13498 × 17289\n",
       "     obs: 'doublet_score', 'predicted_doublet', 'n_genes', 'n_genes_by_counts', 'total_counts', 'total_counts_mt', 'pct_counts_mt'\n",
       "     var: 'gene_ids', 'feature_types', 'n_cells', 'mt', 'n_cells_by_counts', 'mean_counts', 'pct_dropout_by_counts', 'total_counts'\n",
       "     uns: 'scrublet',\n",
       " 'PRJNA681248_ileum0': View of AnnData object with n_obs × n_vars = 8990 × 16418\n",
       "     obs: 'doublet_score', 'predicted_doublet', 'n_genes', 'n_genes_by_counts', 'total_counts', 'total_counts_mt', 'pct_counts_mt'\n",
       "     var: 'gene_ids', 'feature_types', 'n_cells', 'mt', 'n_cells_by_counts', 'mean_counts', 'pct_dropout_by_counts', 'total_counts'\n",
       "     uns: 'scrublet',\n",
       " 'PRJNA681248_ileum1': View of AnnData object with n_obs × n_vars = 10503 × 15991\n",
       "     obs: 'doublet_score', 'predicted_doublet', 'n_genes', 'n_genes_by_counts', 'total_counts', 'total_counts_mt', 'pct_counts_mt'\n",
       "     var: 'gene_ids', 'feature_types', 'n_cells', 'mt', 'n_cells_by_counts', 'mean_counts', 'pct_dropout_by_counts', 'total_counts'\n",
       "     uns: 'scrublet',\n",
       " 'PRJNA681248_ileum3': View of AnnData object with n_obs × n_vars = 9471 × 15961\n",
       "     obs: 'doublet_score', 'predicted_doublet', 'n_genes', 'n_genes_by_counts', 'total_counts', 'total_counts_mt', 'pct_counts_mt'\n",
       "     var: 'gene_ids', 'feature_types', 'n_cells', 'mt', 'n_cells_by_counts', 'mean_counts', 'pct_dropout_by_counts', 'total_counts'\n",
       "     uns: 'scrublet',\n",
       " 'PRJNA681248_ileum7': View of AnnData object with n_obs × n_vars = 14937 × 15498\n",
       "     obs: 'doublet_score', 'predicted_doublet', 'n_genes', 'n_genes_by_counts', 'total_counts', 'total_counts_mt', 'pct_counts_mt'\n",
       "     var: 'gene_ids', 'feature_types', 'n_cells', 'mt', 'n_cells_by_counts', 'mean_counts', 'pct_dropout_by_counts', 'total_counts'\n",
       "     uns: 'scrublet',\n",
       " 'PRJNA681248_ileum14': View of AnnData object with n_obs × n_vars = 16594 × 15115\n",
       "     obs: 'doublet_score', 'predicted_doublet', 'n_genes', 'n_genes_by_counts', 'total_counts', 'total_counts_mt', 'pct_counts_mt'\n",
       "     var: 'gene_ids', 'feature_types', 'n_cells', 'mt', 'n_cells_by_counts', 'mean_counts', 'pct_dropout_by_counts', 'total_counts'\n",
       "     uns: 'scrublet',\n",
       " 'PRJNA681248_ileum21': View of AnnData object with n_obs × n_vars = 13797 × 14101\n",
       "     obs: 'doublet_score', 'predicted_doublet', 'n_genes', 'n_genes_by_counts', 'total_counts', 'total_counts_mt', 'pct_counts_mt'\n",
       "     var: 'gene_ids', 'feature_types', 'n_cells', 'mt', 'n_cells_by_counts', 'mean_counts', 'pct_dropout_by_counts', 'total_counts'\n",
       "     uns: 'scrublet',\n",
       " 'JH0_jejunum': View of AnnData object with n_obs × n_vars = 8017 × 15820\n",
       "     obs: 'doublet_score', 'predicted_doublet', 'n_genes', 'n_genes_by_counts', 'total_counts', 'total_counts_mt', 'pct_counts_mt'\n",
       "     var: 'gene_ids', 'feature_types', 'n_cells', 'mt', 'n_cells_by_counts', 'mean_counts', 'pct_dropout_by_counts', 'total_counts'\n",
       "     uns: 'scrublet',\n",
       " 'PRJNA728441_NSP1': View of AnnData object with n_obs × n_vars = 6426 × 15821\n",
       "     obs: 'doublet_score', 'predicted_doublet', 'n_genes', 'n_genes_by_counts', 'total_counts', 'total_counts_mt', 'pct_counts_mt'\n",
       "     var: 'gene_ids', 'feature_types', 'n_cells', 'mt', 'n_cells_by_counts', 'mean_counts', 'pct_dropout_by_counts', 'total_counts'\n",
       "     uns: 'scrublet',\n",
       " 'PRJNA728441_NSP2': View of AnnData object with n_obs × n_vars = 7773 × 15288\n",
       "     obs: 'doublet_score', 'predicted_doublet', 'n_genes', 'n_genes_by_counts', 'total_counts', 'total_counts_mt', 'pct_counts_mt'\n",
       "     var: 'gene_ids', 'feature_types', 'n_cells', 'mt', 'n_cells_by_counts', 'mean_counts', 'pct_dropout_by_counts', 'total_counts'\n",
       "     uns: 'scrublet',\n",
       " 'PRJNA728441_NSP3': View of AnnData object with n_obs × n_vars = 9849 × 15630\n",
       "     obs: 'doublet_score', 'predicted_doublet', 'n_genes', 'n_genes_by_counts', 'total_counts', 'total_counts_mt', 'pct_counts_mt'\n",
       "     var: 'gene_ids', 'feature_types', 'n_cells', 'mt', 'n_cells_by_counts', 'mean_counts', 'pct_dropout_by_counts', 'total_counts'\n",
       "     uns: 'scrublet',\n",
       " 'PRJNA728441_PWP1': View of AnnData object with n_obs × n_vars = 7321 × 16022\n",
       "     obs: 'doublet_score', 'predicted_doublet', 'n_genes', 'n_genes_by_counts', 'total_counts', 'total_counts_mt', 'pct_counts_mt'\n",
       "     var: 'gene_ids', 'feature_types', 'n_cells', 'mt', 'n_cells_by_counts', 'mean_counts', 'pct_dropout_by_counts', 'total_counts'\n",
       "     uns: 'scrublet',\n",
       " 'PRJNA728441_PWP2': View of AnnData object with n_obs × n_vars = 7540 × 15297\n",
       "     obs: 'doublet_score', 'predicted_doublet', 'n_genes', 'n_genes_by_counts', 'total_counts', 'total_counts_mt', 'pct_counts_mt'\n",
       "     var: 'gene_ids', 'feature_types', 'n_cells', 'mt', 'n_cells_by_counts', 'mean_counts', 'pct_dropout_by_counts', 'total_counts'\n",
       "     uns: 'scrublet',\n",
       " 'PRJNA728441_PWP3': View of AnnData object with n_obs × n_vars = 8094 × 16059\n",
       "     obs: 'doublet_score', 'predicted_doublet', 'n_genes', 'n_genes_by_counts', 'total_counts', 'total_counts_mt', 'pct_counts_mt'\n",
       "     var: 'gene_ids', 'feature_types', 'n_cells', 'mt', 'n_cells_by_counts', 'mean_counts', 'pct_dropout_by_counts', 'total_counts'\n",
       "     uns: 'scrublet',\n",
       " 'PRJNA732355_PEDCase': View of AnnData object with n_obs × n_vars = 7122 × 15445\n",
       "     obs: 'doublet_score', 'predicted_doublet', 'n_genes', 'n_genes_by_counts', 'total_counts', 'total_counts_mt', 'pct_counts_mt'\n",
       "     var: 'gene_ids', 'feature_types', 'n_cells', 'mt', 'n_cells_by_counts', 'mean_counts', 'pct_dropout_by_counts', 'total_counts'\n",
       "     uns: 'scrublet',\n",
       " 'PRJNA732355_PEDControl': View of AnnData object with n_obs × n_vars = 4937 × 15405\n",
       "     obs: 'doublet_score', 'predicted_doublet', 'n_genes', 'n_genes_by_counts', 'total_counts', 'total_counts_mt', 'pct_counts_mt'\n",
       "     var: 'gene_ids', 'feature_types', 'n_cells', 'mt', 'n_cells_by_counts', 'mean_counts', 'pct_dropout_by_counts', 'total_counts'\n",
       "     uns: 'scrublet',\n",
       " 'PRJNA806770_Bama': View of AnnData object with n_obs × n_vars = 4561 × 15991\n",
       "     obs: 'doublet_score', 'predicted_doublet', 'n_genes', 'n_genes_by_counts', 'total_counts', 'total_counts_mt', 'pct_counts_mt'\n",
       "     var: 'gene_ids', 'feature_types', 'n_cells', 'mt', 'n_cells_by_counts', 'mean_counts', 'pct_dropout_by_counts', 'total_counts'\n",
       "     uns: 'scrublet',\n",
       " 'JH_DU0': View of AnnData object with n_obs × n_vars = 3791 × 16097\n",
       "     obs: 'doublet_score', 'predicted_doublet', 'n_genes', 'n_genes_by_counts', 'total_counts', 'total_counts_mt', 'pct_counts_mt'\n",
       "     var: 'gene_ids', 'feature_types', 'n_cells', 'mt', 'n_cells_by_counts', 'mean_counts', 'pct_dropout_by_counts', 'total_counts'\n",
       "     uns: 'scrublet',\n",
       " 'JH_DU60': View of AnnData object with n_obs × n_vars = 18463 × 16975\n",
       "     obs: 'doublet_score', 'predicted_doublet', 'n_genes', 'n_genes_by_counts', 'total_counts', 'total_counts_mt', 'pct_counts_mt'\n",
       "     var: 'gene_ids', 'feature_types', 'n_cells', 'mt', 'n_cells_by_counts', 'mean_counts', 'pct_dropout_by_counts', 'total_counts'\n",
       "     uns: 'scrublet',\n",
       " 'JH_DU90': View of AnnData object with n_obs × n_vars = 7151 × 15858\n",
       "     obs: 'doublet_score', 'predicted_doublet', 'n_genes', 'n_genes_by_counts', 'total_counts', 'total_counts_mt', 'pct_counts_mt'\n",
       "     var: 'gene_ids', 'feature_types', 'n_cells', 'mt', 'n_cells_by_counts', 'mean_counts', 'pct_dropout_by_counts', 'total_counts'\n",
       "     uns: 'scrublet',\n",
       " 'JH_DU180': View of AnnData object with n_obs × n_vars = 10296 × 16900\n",
       "     obs: 'doublet_score', 'predicted_doublet', 'n_genes', 'n_genes_by_counts', 'total_counts', 'total_counts_mt', 'pct_counts_mt'\n",
       "     var: 'gene_ids', 'feature_types', 'n_cells', 'mt', 'n_cells_by_counts', 'mean_counts', 'pct_dropout_by_counts', 'total_counts'\n",
       "     uns: 'scrublet',\n",
       " 'JH_DU240': View of AnnData object with n_obs × n_vars = 1398 × 15794\n",
       "     obs: 'doublet_score', 'predicted_doublet', 'n_genes', 'n_genes_by_counts', 'total_counts', 'total_counts_mt', 'pct_counts_mt'\n",
       "     var: 'gene_ids', 'feature_types', 'n_cells', 'mt', 'n_cells_by_counts', 'mean_counts', 'pct_dropout_by_counts', 'total_counts'\n",
       "     uns: 'scrublet',\n",
       " 'JH_JE0': View of AnnData object with n_obs × n_vars = 5192 × 16451\n",
       "     obs: 'doublet_score', 'predicted_doublet', 'n_genes', 'n_genes_by_counts', 'total_counts', 'total_counts_mt', 'pct_counts_mt'\n",
       "     var: 'gene_ids', 'feature_types', 'n_cells', 'mt', 'n_cells_by_counts', 'mean_counts', 'pct_dropout_by_counts', 'total_counts'\n",
       "     uns: 'scrublet',\n",
       " 'JH_JE60': View of AnnData object with n_obs × n_vars = 4227 × 15983\n",
       "     obs: 'doublet_score', 'predicted_doublet', 'n_genes', 'n_genes_by_counts', 'total_counts', 'total_counts_mt', 'pct_counts_mt'\n",
       "     var: 'gene_ids', 'feature_types', 'n_cells', 'mt', 'n_cells_by_counts', 'mean_counts', 'pct_dropout_by_counts', 'total_counts'\n",
       "     uns: 'scrublet',\n",
       " 'JH_JE90': View of AnnData object with n_obs × n_vars = 7776 × 15255\n",
       "     obs: 'doublet_score', 'predicted_doublet', 'n_genes', 'n_genes_by_counts', 'total_counts', 'total_counts_mt', 'pct_counts_mt'\n",
       "     var: 'gene_ids', 'feature_types', 'n_cells', 'mt', 'n_cells_by_counts', 'mean_counts', 'pct_dropout_by_counts', 'total_counts'\n",
       "     uns: 'scrublet',\n",
       " 'JH_JE180': View of AnnData object with n_obs × n_vars = 6388 × 16166\n",
       "     obs: 'doublet_score', 'predicted_doublet', 'n_genes', 'n_genes_by_counts', 'total_counts', 'total_counts_mt', 'pct_counts_mt'\n",
       "     var: 'gene_ids', 'feature_types', 'n_cells', 'mt', 'n_cells_by_counts', 'mean_counts', 'pct_dropout_by_counts', 'total_counts'\n",
       "     uns: 'scrublet',\n",
       " 'JH_JE240': View of AnnData object with n_obs × n_vars = 2566 × 15964\n",
       "     obs: 'doublet_score', 'predicted_doublet', 'n_genes', 'n_genes_by_counts', 'total_counts', 'total_counts_mt', 'pct_counts_mt'\n",
       "     var: 'gene_ids', 'feature_types', 'n_cells', 'mt', 'n_cells_by_counts', 'mean_counts', 'pct_dropout_by_counts', 'total_counts'\n",
       "     uns: 'scrublet',\n",
       " 'JH_IL0': View of AnnData object with n_obs × n_vars = 5469 × 16214\n",
       "     obs: 'doublet_score', 'predicted_doublet', 'n_genes', 'n_genes_by_counts', 'total_counts', 'total_counts_mt', 'pct_counts_mt'\n",
       "     var: 'gene_ids', 'feature_types', 'n_cells', 'mt', 'n_cells_by_counts', 'mean_counts', 'pct_dropout_by_counts', 'total_counts'\n",
       "     uns: 'scrublet',\n",
       " 'JH_IL60': View of AnnData object with n_obs × n_vars = 7051 × 14816\n",
       "     obs: 'doublet_score', 'predicted_doublet', 'n_genes', 'n_genes_by_counts', 'total_counts', 'total_counts_mt', 'pct_counts_mt'\n",
       "     var: 'gene_ids', 'feature_types', 'n_cells', 'mt', 'n_cells_by_counts', 'mean_counts', 'pct_dropout_by_counts', 'total_counts'\n",
       "     uns: 'scrublet',\n",
       " 'JH_IL90': View of AnnData object with n_obs × n_vars = 6778 × 15104\n",
       "     obs: 'doublet_score', 'predicted_doublet', 'n_genes', 'n_genes_by_counts', 'total_counts', 'total_counts_mt', 'pct_counts_mt'\n",
       "     var: 'gene_ids', 'feature_types', 'n_cells', 'mt', 'n_cells_by_counts', 'mean_counts', 'pct_dropout_by_counts', 'total_counts'\n",
       "     uns: 'scrublet',\n",
       " 'JH_IL180': View of AnnData object with n_obs × n_vars = 7925 × 16481\n",
       "     obs: 'doublet_score', 'predicted_doublet', 'n_genes', 'n_genes_by_counts', 'total_counts', 'total_counts_mt', 'pct_counts_mt'\n",
       "     var: 'gene_ids', 'feature_types', 'n_cells', 'mt', 'n_cells_by_counts', 'mean_counts', 'pct_dropout_by_counts', 'total_counts'\n",
       "     uns: 'scrublet',\n",
       " 'JH_IL240': View of AnnData object with n_obs × n_vars = 2003 × 16224\n",
       "     obs: 'doublet_score', 'predicted_doublet', 'n_genes', 'n_genes_by_counts', 'total_counts', 'total_counts_mt', 'pct_counts_mt'\n",
       "     var: 'gene_ids', 'feature_types', 'n_cells', 'mt', 'n_cells_by_counts', 'mean_counts', 'pct_dropout_by_counts', 'total_counts'\n",
       "     uns: 'scrublet',\n",
       " 'DUR_DU': View of AnnData object with n_obs × n_vars = 9084 × 17106\n",
       "     obs: 'doublet_score', 'predicted_doublet', 'n_genes', 'n_genes_by_counts', 'total_counts', 'total_counts_mt', 'pct_counts_mt'\n",
       "     var: 'gene_ids', 'feature_types', 'n_cells', 'mt', 'n_cells_by_counts', 'mean_counts', 'pct_dropout_by_counts', 'total_counts'\n",
       "     uns: 'scrublet',\n",
       " 'DUR_JE': View of AnnData object with n_obs × n_vars = 11619 × 17007\n",
       "     obs: 'doublet_score', 'predicted_doublet', 'n_genes', 'n_genes_by_counts', 'total_counts', 'total_counts_mt', 'pct_counts_mt'\n",
       "     var: 'gene_ids', 'feature_types', 'n_cells', 'mt', 'n_cells_by_counts', 'mean_counts', 'pct_dropout_by_counts', 'total_counts'\n",
       "     uns: 'scrublet',\n",
       " 'DUR_IL': View of AnnData object with n_obs × n_vars = 9763 × 16771\n",
       "     obs: 'doublet_score', 'predicted_doublet', 'n_genes', 'n_genes_by_counts', 'total_counts', 'total_counts_mt', 'pct_counts_mt'\n",
       "     var: 'gene_ids', 'feature_types', 'n_cells', 'mt', 'n_cells_by_counts', 'mean_counts', 'pct_dropout_by_counts', 'total_counts'\n",
       "     uns: 'scrublet',\n",
       " 'EB5_DU': View of AnnData object with n_obs × n_vars = 9887 × 16952\n",
       "     obs: 'doublet_score', 'predicted_doublet', 'n_genes', 'n_genes_by_counts', 'total_counts', 'total_counts_mt', 'pct_counts_mt'\n",
       "     var: 'gene_ids', 'feature_types', 'n_cells', 'mt', 'n_cells_by_counts', 'mean_counts', 'pct_dropout_by_counts', 'total_counts'\n",
       "     uns: 'scrublet',\n",
       " 'EB5_JE': View of AnnData object with n_obs × n_vars = 9657 × 17124\n",
       "     obs: 'doublet_score', 'predicted_doublet', 'n_genes', 'n_genes_by_counts', 'total_counts', 'total_counts_mt', 'pct_counts_mt'\n",
       "     var: 'gene_ids', 'feature_types', 'n_cells', 'mt', 'n_cells_by_counts', 'mean_counts', 'pct_dropout_by_counts', 'total_counts'\n",
       "     uns: 'scrublet',\n",
       " 'EB5_IL': View of AnnData object with n_obs × n_vars = 9179 × 16616\n",
       "     obs: 'doublet_score', 'predicted_doublet', 'n_genes', 'n_genes_by_counts', 'total_counts', 'total_counts_mt', 'pct_counts_mt'\n",
       "     var: 'gene_ids', 'feature_types', 'n_cells', 'mt', 'n_cells_by_counts', 'mean_counts', 'pct_dropout_by_counts', 'total_counts'\n",
       "     uns: 'scrublet',\n",
       " 'Ss_DU': View of AnnData object with n_obs × n_vars = 10624 × 16475\n",
       "     obs: 'doublet_score', 'predicted_doublet', 'n_genes', 'n_genes_by_counts', 'total_counts', 'total_counts_mt', 'pct_counts_mt'\n",
       "     var: 'gene_ids', 'feature_types', 'n_cells', 'mt', 'n_cells_by_counts', 'mean_counts', 'pct_dropout_by_counts', 'total_counts'\n",
       "     uns: 'scrublet',\n",
       " 'Ss_JE': View of AnnData object with n_obs × n_vars = 11960 × 16689\n",
       "     obs: 'doublet_score', 'predicted_doublet', 'n_genes', 'n_genes_by_counts', 'total_counts', 'total_counts_mt', 'pct_counts_mt'\n",
       "     var: 'gene_ids', 'feature_types', 'n_cells', 'mt', 'n_cells_by_counts', 'mean_counts', 'pct_dropout_by_counts', 'total_counts'\n",
       "     uns: 'scrublet',\n",
       " 'Ss_IL': View of AnnData object with n_obs × n_vars = 13842 × 16739\n",
       "     obs: 'doublet_score', 'predicted_doublet', 'n_genes', 'n_genes_by_counts', 'total_counts', 'total_counts_mt', 'pct_counts_mt'\n",
       "     var: 'gene_ids', 'feature_types', 'n_cells', 'mt', 'n_cells_by_counts', 'mean_counts', 'pct_dropout_by_counts', 'total_counts'\n",
       "     uns: 'scrublet',\n",
       " 'PRJNA685448_Piglet_day0': View of AnnData object with n_obs × n_vars = 8791 × 15735\n",
       "     obs: 'doublet_score', 'predicted_doublet', 'n_genes', 'n_genes_by_counts', 'total_counts', 'total_counts_mt', 'pct_counts_mt'\n",
       "     var: 'gene_ids', 'feature_types', 'n_cells', 'mt', 'n_cells_by_counts', 'mean_counts', 'pct_dropout_by_counts', 'total_counts'\n",
       "     uns: 'scrublet',\n",
       " 'PRJNA685448_Piglet_day7': View of AnnData object with n_obs × n_vars = 10217 × 15736\n",
       "     obs: 'doublet_score', 'predicted_doublet', 'n_genes', 'n_genes_by_counts', 'total_counts', 'total_counts_mt', 'pct_counts_mt'\n",
       "     var: 'gene_ids', 'feature_types', 'n_cells', 'mt', 'n_cells_by_counts', 'mean_counts', 'pct_dropout_by_counts', 'total_counts'\n",
       "     uns: 'scrublet',\n",
       " 'PRJNA685448_Piglet_day14': View of AnnData object with n_obs × n_vars = 15725 × 16429\n",
       "     obs: 'doublet_score', 'predicted_doublet', 'n_genes', 'n_genes_by_counts', 'total_counts', 'total_counts_mt', 'pct_counts_mt'\n",
       "     var: 'gene_ids', 'feature_types', 'n_cells', 'mt', 'n_cells_by_counts', 'mean_counts', 'pct_dropout_by_counts', 'total_counts'\n",
       "     uns: 'scrublet',\n",
       " 'PRJNA685448_Piglet_day21': View of AnnData object with n_obs × n_vars = 16584 × 16237\n",
       "     obs: 'doublet_score', 'predicted_doublet', 'n_genes', 'n_genes_by_counts', 'total_counts', 'total_counts_mt', 'pct_counts_mt'\n",
       "     var: 'gene_ids', 'feature_types', 'n_cells', 'mt', 'n_cells_by_counts', 'mean_counts', 'pct_dropout_by_counts', 'total_counts'\n",
       "     uns: 'scrublet',\n",
       " 'JH0_cecum': View of AnnData object with n_obs × n_vars = 9104 × 15754\n",
       "     obs: 'doublet_score', 'predicted_doublet', 'n_genes', 'n_genes_by_counts', 'total_counts', 'total_counts_mt', 'pct_counts_mt'\n",
       "     var: 'gene_ids', 'feature_types', 'n_cells', 'mt', 'n_cells_by_counts', 'mean_counts', 'pct_dropout_by_counts', 'total_counts'\n",
       "     uns: 'scrublet',\n",
       " 'JH0_colon': View of AnnData object with n_obs × n_vars = 8692 × 16242\n",
       "     obs: 'doublet_score', 'predicted_doublet', 'n_genes', 'n_genes_by_counts', 'total_counts', 'total_counts_mt', 'pct_counts_mt'\n",
       "     var: 'gene_ids', 'feature_types', 'n_cells', 'mt', 'n_cells_by_counts', 'mean_counts', 'pct_dropout_by_counts', 'total_counts'\n",
       "     uns: 'scrublet',\n",
       " 'JH_CE0': View of AnnData object with n_obs × n_vars = 4534 × 16116\n",
       "     obs: 'doublet_score', 'predicted_doublet', 'n_genes', 'n_genes_by_counts', 'total_counts', 'total_counts_mt', 'pct_counts_mt'\n",
       "     var: 'gene_ids', 'feature_types', 'n_cells', 'mt', 'n_cells_by_counts', 'mean_counts', 'pct_dropout_by_counts', 'total_counts'\n",
       "     uns: 'scrublet',\n",
       " 'JH_CE60': View of AnnData object with n_obs × n_vars = 5123 × 14891\n",
       "     obs: 'doublet_score', 'predicted_doublet', 'n_genes', 'n_genes_by_counts', 'total_counts', 'total_counts_mt', 'pct_counts_mt'\n",
       "     var: 'gene_ids', 'feature_types', 'n_cells', 'mt', 'n_cells_by_counts', 'mean_counts', 'pct_dropout_by_counts', 'total_counts'\n",
       "     uns: 'scrublet',\n",
       " 'JH_CE90': View of AnnData object with n_obs × n_vars = 3064 × 14551\n",
       "     obs: 'doublet_score', 'predicted_doublet', 'n_genes', 'n_genes_by_counts', 'total_counts', 'total_counts_mt', 'pct_counts_mt'\n",
       "     var: 'gene_ids', 'feature_types', 'n_cells', 'mt', 'n_cells_by_counts', 'mean_counts', 'pct_dropout_by_counts', 'total_counts'\n",
       "     uns: 'scrublet',\n",
       " 'JH_CE180': View of AnnData object with n_obs × n_vars = 6688 × 16444\n",
       "     obs: 'doublet_score', 'predicted_doublet', 'n_genes', 'n_genes_by_counts', 'total_counts', 'total_counts_mt', 'pct_counts_mt'\n",
       "     var: 'gene_ids', 'feature_types', 'n_cells', 'mt', 'n_cells_by_counts', 'mean_counts', 'pct_dropout_by_counts', 'total_counts'\n",
       "     uns: 'scrublet',\n",
       " 'JH_CO0': View of AnnData object with n_obs × n_vars = 6452 × 15797\n",
       "     obs: 'doublet_score', 'predicted_doublet', 'n_genes', 'n_genes_by_counts', 'total_counts', 'total_counts_mt', 'pct_counts_mt'\n",
       "     var: 'gene_ids', 'feature_types', 'n_cells', 'mt', 'n_cells_by_counts', 'mean_counts', 'pct_dropout_by_counts', 'total_counts'\n",
       "     uns: 'scrublet',\n",
       " 'JH_CO60': View of AnnData object with n_obs × n_vars = 6560 × 15240\n",
       "     obs: 'doublet_score', 'predicted_doublet', 'n_genes', 'n_genes_by_counts', 'total_counts', 'total_counts_mt', 'pct_counts_mt'\n",
       "     var: 'gene_ids', 'feature_types', 'n_cells', 'mt', 'n_cells_by_counts', 'mean_counts', 'pct_dropout_by_counts', 'total_counts'\n",
       "     uns: 'scrublet',\n",
       " 'JH_CO90': View of AnnData object with n_obs × n_vars = 6723 × 15588\n",
       "     obs: 'doublet_score', 'predicted_doublet', 'n_genes', 'n_genes_by_counts', 'total_counts', 'total_counts_mt', 'pct_counts_mt'\n",
       "     var: 'gene_ids', 'feature_types', 'n_cells', 'mt', 'n_cells_by_counts', 'mean_counts', 'pct_dropout_by_counts', 'total_counts'\n",
       "     uns: 'scrublet',\n",
       " 'JH_CO180': View of AnnData object with n_obs × n_vars = 8213 × 16636\n",
       "     obs: 'doublet_score', 'predicted_doublet', 'n_genes', 'n_genes_by_counts', 'total_counts', 'total_counts_mt', 'pct_counts_mt'\n",
       "     var: 'gene_ids', 'feature_types', 'n_cells', 'mt', 'n_cells_by_counts', 'mean_counts', 'pct_dropout_by_counts', 'total_counts'\n",
       "     uns: 'scrublet',\n",
       " 'JH_CE240': View of AnnData object with n_obs × n_vars = 1610 × 15904\n",
       "     obs: 'doublet_score', 'predicted_doublet', 'n_genes', 'n_genes_by_counts', 'total_counts', 'total_counts_mt', 'pct_counts_mt'\n",
       "     var: 'gene_ids', 'feature_types', 'n_cells', 'mt', 'n_cells_by_counts', 'mean_counts', 'pct_dropout_by_counts', 'total_counts'\n",
       "     uns: 'scrublet',\n",
       " 'JH_CO240': View of AnnData object with n_obs × n_vars = 6795 × 15986\n",
       "     obs: 'doublet_score', 'predicted_doublet', 'n_genes', 'n_genes_by_counts', 'total_counts', 'total_counts_mt', 'pct_counts_mt'\n",
       "     var: 'gene_ids', 'feature_types', 'n_cells', 'mt', 'n_cells_by_counts', 'mean_counts', 'pct_dropout_by_counts', 'total_counts'\n",
       "     uns: 'scrublet',\n",
       " 'DUR_CE': View of AnnData object with n_obs × n_vars = 6933 × 16960\n",
       "     obs: 'doublet_score', 'predicted_doublet', 'n_genes', 'n_genes_by_counts', 'total_counts', 'total_counts_mt', 'pct_counts_mt'\n",
       "     var: 'gene_ids', 'feature_types', 'n_cells', 'mt', 'n_cells_by_counts', 'mean_counts', 'pct_dropout_by_counts', 'total_counts'\n",
       "     uns: 'scrublet',\n",
       " 'DUR_CO': View of AnnData object with n_obs × n_vars = 8349 × 16845\n",
       "     obs: 'doublet_score', 'predicted_doublet', 'n_genes', 'n_genes_by_counts', 'total_counts', 'total_counts_mt', 'pct_counts_mt'\n",
       "     var: 'gene_ids', 'feature_types', 'n_cells', 'mt', 'n_cells_by_counts', 'mean_counts', 'pct_dropout_by_counts', 'total_counts'\n",
       "     uns: 'scrublet',\n",
       " 'EB5_CE': View of AnnData object with n_obs × n_vars = 9903 × 17092\n",
       "     obs: 'doublet_score', 'predicted_doublet', 'n_genes', 'n_genes_by_counts', 'total_counts', 'total_counts_mt', 'pct_counts_mt'\n",
       "     var: 'gene_ids', 'feature_types', 'n_cells', 'mt', 'n_cells_by_counts', 'mean_counts', 'pct_dropout_by_counts', 'total_counts'\n",
       "     uns: 'scrublet',\n",
       " 'EB5_CO': View of AnnData object with n_obs × n_vars = 17229 × 17169\n",
       "     obs: 'doublet_score', 'predicted_doublet', 'n_genes', 'n_genes_by_counts', 'total_counts', 'total_counts_mt', 'pct_counts_mt'\n",
       "     var: 'gene_ids', 'feature_types', 'n_cells', 'mt', 'n_cells_by_counts', 'mean_counts', 'pct_dropout_by_counts', 'total_counts'\n",
       "     uns: 'scrublet',\n",
       " 'Ss_CE': View of AnnData object with n_obs × n_vars = 11858 × 17050\n",
       "     obs: 'doublet_score', 'predicted_doublet', 'n_genes', 'n_genes_by_counts', 'total_counts', 'total_counts_mt', 'pct_counts_mt'\n",
       "     var: 'gene_ids', 'feature_types', 'n_cells', 'mt', 'n_cells_by_counts', 'mean_counts', 'pct_dropout_by_counts', 'total_counts'\n",
       "     uns: 'scrublet',\n",
       " 'Ss_CO': View of AnnData object with n_obs × n_vars = 18366 × 17381\n",
       "     obs: 'doublet_score', 'predicted_doublet', 'n_genes', 'n_genes_by_counts', 'total_counts', 'total_counts_mt', 'pct_counts_mt'\n",
       "     var: 'gene_ids', 'feature_types', 'n_cells', 'mt', 'n_cells_by_counts', 'mean_counts', 'pct_dropout_by_counts', 'total_counts'\n",
       "     uns: 'scrublet',\n",
       " 'PRJNA859792_DUOD1': View of AnnData object with n_obs × n_vars = 1435 × 14000\n",
       "     obs: 'doublet_score', 'predicted_doublet', 'n_genes', 'n_genes_by_counts', 'total_counts', 'total_counts_mt', 'pct_counts_mt'\n",
       "     var: 'gene_ids', 'feature_types', 'n_cells', 'mt', 'n_cells_by_counts', 'mean_counts', 'pct_dropout_by_counts', 'total_counts'\n",
       "     uns: 'scrublet',\n",
       " 'PRJNA859792_DUOD2': View of AnnData object with n_obs × n_vars = 1417 × 13973\n",
       "     obs: 'doublet_score', 'predicted_doublet', 'n_genes', 'n_genes_by_counts', 'total_counts', 'total_counts_mt', 'pct_counts_mt'\n",
       "     var: 'gene_ids', 'feature_types', 'n_cells', 'mt', 'n_cells_by_counts', 'mean_counts', 'pct_dropout_by_counts', 'total_counts'\n",
       "     uns: 'scrublet',\n",
       " 'PRJNA859792_DUOD3': View of AnnData object with n_obs × n_vars = 1422 × 13929\n",
       "     obs: 'doublet_score', 'predicted_doublet', 'n_genes', 'n_genes_by_counts', 'total_counts', 'total_counts_mt', 'pct_counts_mt'\n",
       "     var: 'gene_ids', 'feature_types', 'n_cells', 'mt', 'n_cells_by_counts', 'mean_counts', 'pct_dropout_by_counts', 'total_counts'\n",
       "     uns: 'scrublet',\n",
       " 'PRJNA859792_DUOD4': View of AnnData object with n_obs × n_vars = 1412 × 13675\n",
       "     obs: 'doublet_score', 'predicted_doublet', 'n_genes', 'n_genes_by_counts', 'total_counts', 'total_counts_mt', 'pct_counts_mt'\n",
       "     var: 'gene_ids', 'feature_types', 'n_cells', 'mt', 'n_cells_by_counts', 'mean_counts', 'pct_dropout_by_counts', 'total_counts'\n",
       "     uns: 'scrublet',\n",
       " 'PRJNA859792_JEJ1': View of AnnData object with n_obs × n_vars = 1787 × 13980\n",
       "     obs: 'doublet_score', 'predicted_doublet', 'n_genes', 'n_genes_by_counts', 'total_counts', 'total_counts_mt', 'pct_counts_mt'\n",
       "     var: 'gene_ids', 'feature_types', 'n_cells', 'mt', 'n_cells_by_counts', 'mean_counts', 'pct_dropout_by_counts', 'total_counts'\n",
       "     uns: 'scrublet',\n",
       " 'PRJNA859792_JEJ2': View of AnnData object with n_obs × n_vars = 1823 × 14119\n",
       "     obs: 'doublet_score', 'predicted_doublet', 'n_genes', 'n_genes_by_counts', 'total_counts', 'total_counts_mt', 'pct_counts_mt'\n",
       "     var: 'gene_ids', 'feature_types', 'n_cells', 'mt', 'n_cells_by_counts', 'mean_counts', 'pct_dropout_by_counts', 'total_counts'\n",
       "     uns: 'scrublet',\n",
       " 'PRJNA859792_JEJ3': View of AnnData object with n_obs × n_vars = 1669 × 13374\n",
       "     obs: 'doublet_score', 'predicted_doublet', 'n_genes', 'n_genes_by_counts', 'total_counts', 'total_counts_mt', 'pct_counts_mt'\n",
       "     var: 'gene_ids', 'feature_types', 'n_cells', 'mt', 'n_cells_by_counts', 'mean_counts', 'pct_dropout_by_counts', 'total_counts'\n",
       "     uns: 'scrublet',\n",
       " 'PRJNA859792_JEJ4': View of AnnData object with n_obs × n_vars = 1635 × 13203\n",
       "     obs: 'doublet_score', 'predicted_doublet', 'n_genes', 'n_genes_by_counts', 'total_counts', 'total_counts_mt', 'pct_counts_mt'\n",
       "     var: 'gene_ids', 'feature_types', 'n_cells', 'mt', 'n_cells_by_counts', 'mean_counts', 'pct_dropout_by_counts', 'total_counts'\n",
       "     uns: 'scrublet',\n",
       " 'PRJNA859792_IPP1': View of AnnData object with n_obs × n_vars = 4697 × 15194\n",
       "     obs: 'doublet_score', 'predicted_doublet', 'n_genes', 'n_genes_by_counts', 'total_counts', 'total_counts_mt', 'pct_counts_mt'\n",
       "     var: 'gene_ids', 'feature_types', 'n_cells', 'mt', 'n_cells_by_counts', 'mean_counts', 'pct_dropout_by_counts', 'total_counts'\n",
       "     uns: 'scrublet',\n",
       " 'PRJNA859792_IPP2': View of AnnData object with n_obs × n_vars = 4662 × 15107\n",
       "     obs: 'doublet_score', 'predicted_doublet', 'n_genes', 'n_genes_by_counts', 'total_counts', 'total_counts_mt', 'pct_counts_mt'\n",
       "     var: 'gene_ids', 'feature_types', 'n_cells', 'mt', 'n_cells_by_counts', 'mean_counts', 'pct_dropout_by_counts', 'total_counts'\n",
       "     uns: 'scrublet',\n",
       " 'PRJNA859792_IPP3': View of AnnData object with n_obs × n_vars = 4576 × 14940\n",
       "     obs: 'doublet_score', 'predicted_doublet', 'n_genes', 'n_genes_by_counts', 'total_counts', 'total_counts_mt', 'pct_counts_mt'\n",
       "     var: 'gene_ids', 'feature_types', 'n_cells', 'mt', 'n_cells_by_counts', 'mean_counts', 'pct_dropout_by_counts', 'total_counts'\n",
       "     uns: 'scrublet',\n",
       " 'PRJNA859792_IPP4': View of AnnData object with n_obs × n_vars = 4504 × 14641\n",
       "     obs: 'doublet_score', 'predicted_doublet', 'n_genes', 'n_genes_by_counts', 'total_counts', 'total_counts_mt', 'pct_counts_mt'\n",
       "     var: 'gene_ids', 'feature_types', 'n_cells', 'mt', 'n_cells_by_counts', 'mean_counts', 'pct_dropout_by_counts', 'total_counts'\n",
       "     uns: 'scrublet',\n",
       " 'PRJNA859792_NoPP1': View of AnnData object with n_obs × n_vars = 3278 × 14796\n",
       "     obs: 'doublet_score', 'predicted_doublet', 'n_genes', 'n_genes_by_counts', 'total_counts', 'total_counts_mt', 'pct_counts_mt'\n",
       "     var: 'gene_ids', 'feature_types', 'n_cells', 'mt', 'n_cells_by_counts', 'mean_counts', 'pct_dropout_by_counts', 'total_counts'\n",
       "     uns: 'scrublet',\n",
       " 'PRJNA859792_NoPP2': View of AnnData object with n_obs × n_vars = 3317 × 14877\n",
       "     obs: 'doublet_score', 'predicted_doublet', 'n_genes', 'n_genes_by_counts', 'total_counts', 'total_counts_mt', 'pct_counts_mt'\n",
       "     var: 'gene_ids', 'feature_types', 'n_cells', 'mt', 'n_cells_by_counts', 'mean_counts', 'pct_dropout_by_counts', 'total_counts'\n",
       "     uns: 'scrublet',\n",
       " 'PRJNA859792_NoPP4': View of AnnData object with n_obs × n_vars = 2435 × 12002\n",
       "     obs: 'doublet_score', 'predicted_doublet', 'n_genes', 'n_genes_by_counts', 'total_counts', 'total_counts_mt', 'pct_counts_mt'\n",
       "     var: 'gene_ids', 'feature_types', 'n_cells', 'mt', 'n_cells_by_counts', 'mean_counts', 'pct_dropout_by_counts', 'total_counts'\n",
       "     uns: 'scrublet'}"
      ]
     },
     "execution_count": 69,
     "metadata": {},
     "output_type": "execute_result"
    }
   ],
   "source": [
    "ap"
   ]
  },
  {
   "cell_type": "code",
   "execution_count": 70,
   "metadata": {},
   "outputs": [],
   "source": [
    "merged_df = pd.merge(cellnum, qcnum, left_index=True, right_index=True)\n",
    "def calculate_celldifference(row):\n",
    "    return row['cell'] - row['cellqc']\n",
    "def calculate_genedifference(row):\n",
    "    return row['gene'] - row['geneqc']\n",
    "# 使用 apply() 方法应用自定义函数到每一行，并将结果填充到新的列 \"cellfilter\"\n",
    "merged_df['cellfilter'] = merged_df.apply(calculate_celldifference, axis=1)\n",
    "merged_df['genefilter'] = merged_df.apply(calculate_genedifference, axis=1)\n",
    "# merged_df.to_csv('./cellqc.csv')"
   ]
  },
  {
   "cell_type": "code",
   "execution_count": 71,
   "metadata": {},
   "outputs": [],
   "source": [
    "adata=sc.concat(ap.values(),keys=ap.keys(),label='project',join='outer')\n",
    "adata\n",
    "adata.write(concat_file)"
   ]
  },
  {
   "cell_type": "code",
   "execution_count": 72,
   "metadata": {},
   "outputs": [
    {
     "data": {
      "text/plain": [
       "AnnData object with n_obs × n_vars = 589101 × 19346\n",
       "    obs: 'doublet_score', 'predicted_doublet', 'n_genes', 'n_genes_by_counts', 'total_counts', 'total_counts_mt', 'pct_counts_mt', 'project'"
      ]
     },
     "execution_count": 72,
     "metadata": {},
     "output_type": "execute_result"
    }
   ],
   "source": [
    "adata"
   ]
  }
 ],
 "metadata": {
  "kernelspec": {
   "display_name": "labBase",
   "language": "python",
   "name": "python3"
  },
  "language_info": {
   "codemirror_mode": {
    "name": "ipython",
    "version": 3
   },
   "file_extension": ".py",
   "mimetype": "text/x-python",
   "name": "python",
   "nbconvert_exporter": "python",
   "pygments_lexer": "ipython3",
   "version": "3.11.11"
  },
  "orig_nbformat": 4
 },
 "nbformat": 4,
 "nbformat_minor": 2
}
